{
    "cells": [
        {
            "cell_type": "markdown",
            "metadata": {},
            "source": [
                "# Chapter 4: Breaking the Storm\n",
                "\n",
                "In the control room of the HelixTech Research Facility, Alexa and Sam stood, a sense of cautious optimism between them. Despite the relentless storm outside, they felt a glimmer of hope, fueled by the steady hum of the power grid they had just brought back to life. The ordeal had tested their resolve, teaching them the delicate interplay of technology and willpower. Amid the dim glow of monitors, they felt a momentary pride. Yet, they knew their journey was far from complete.\n",
                "\n",
                "JAX, the AI that had guided them through this unexpected journey, introduced the next pivotal challenge. \"With the lab's power systems operational, we've achieved a significant milestone,\" JAX stated, a stable presence in the tempestuous environment. \"But we face a greater challenge that lies beyond these walls.\"\n",
                "\n",
                "The AI conveyed urgency as it outlined the situation. \"The storm's ferocity is mounting, bringing with it severe atmospheric interference. This turmoil threatens to mute our distress signals. Our communication devices, though powerful, struggle against the storm's overwhelming force.\"\n",
                "\n",
                "Alexa, grasping the severity, leaned forward. \"We need to break through the interference?\" she deduced.\n",
                "\n",
                "\"Correct,\" confirmed JAX. \"Boosting our signal power at critical moments will allow us to penetrate the storm and reach the satellite. This mission is about more than reestablishing contact; it's about ensuring our plea for help is heard above the storm's chaos.\""
            ]
        },
        {
            "cell_type": "markdown",
            "metadata": {},
            "source": [
                "# Let's Learn"
            ]
        },
        {
            "cell_type": "markdown",
            "metadata": {},
            "source": [
                "Welcome to Week 4!  In this chapter, we dive deeper, exploring advanced concepts that will enhance our ability to interact with data, manage operations that happen over time, and handle unexpected situations gracefully. \n",
                "\n",
                "## Arrays and Array Methods\n",
                "\n",
                "We've already seen how you can store lists of data in `arrays`.  This is a very common pattern in programming, and most languages provide a set of handy methods to working with these lists.  Let's look at a few.\n",
                "\n",
                "### map()\n",
                "\n",
                "The `map()` method creates a new array by transforming every element in an array individually. It's like taking each item, applying a change, and then putting it back, all in one go.\n",
                "\n",
                "Example: Alexa needs to calculate the power output needed for each piece of equipment to function above the storm's interference. Each item in the inventory array represents the base power requirement, and she decides to double this requirement to ensure reliability."
            ]
        },
        {
            "cell_type": "code",
            "execution_count": null,
            "metadata": {},
            "outputs": [],
            "source": [
                "const basePowerRequirements = [10, 15, 20, 25]; // Power requirements in watts\n",
                "const adjustedPowerRequirements = basePowerRequirements.map(requirement => requirement * 2);\n",
                "\n",
                "console.log(adjustedPowerRequirements);"
            ]
        },
        {
            "cell_type": "markdown",
            "metadata": {},
            "source": [
                "### filter()\n",
                "\n",
                "The `filter()` method creates a new array with all elements that pass the test implemented by the provided function. It's like selecting only those items that meet certain criteria.\n",
                "\n",
                "Example: Sam realizes that not all equipment is vital for their immediate goal. He decides to filter out items that require more than 30 watts, conserving power."
            ]
        },
        {
            "cell_type": "code",
            "execution_count": null,
            "metadata": {},
            "outputs": [],
            "source": [
                "const basePowerRequirements = [10, 15, 20, 25]; // Power requirements in watts\n",
                "const adjustedPowerRequirements = basePowerRequirements.map(requirement => requirement * 2);\n",
                "\n",
                "const vitalEquipment = adjustedPowerRequirements.filter(requirement => requirement <= 30);\n",
                "\n",
                "console.log(vitalEquipment);"
            ]
        },
        {
            "cell_type": "markdown",
            "metadata": {},
            "source": [
                "### reduce()\n",
                "\n",
                "The `reduce()` method executes a reducer function on each element of the array, resulting in a single output value. It's akin to summarizing or combining all items into one.\n",
                "\n",
                "Example: To plan their power usage, Alexa and Sam need to know the total power requirement of the vital equipment. They use `reduce()` to sum these values."
            ]
        },
        {
            "cell_type": "code",
            "execution_count": null,
            "metadata": {},
            "outputs": [],
            "source": [
                "const basePowerRequirements = [10, 15, 20, 25]; // Power requirements in watts\n",
                "const adjustedPowerRequirements = basePowerRequirements.map(requirement => requirement * 2);\n",
                "const vitalEquipment = adjustedPowerRequirements.filter(requirement => requirement <= 30);\n",
                "\n",
                "const totalPowerRequirement = vitalEquipment.reduce((total, requirement) => total + requirement, 0);\n",
                "\n",
                "console.log(totalPowerRequirement);"
            ]
        },
        {
            "cell_type": "markdown",
            "metadata": {},
            "source": [
                "### forEach()\n",
                "\n",
                "The `forEach()` method executes a provided function once for each array element. It's used for performing actions on each item, like logging or updating an interface.\n",
                "\n",
                "Example: To keep track of their progress, Sam decides to log each vital equipment's power requirement."
            ]
        },
        {
            "cell_type": "code",
            "execution_count": null,
            "metadata": {},
            "outputs": [],
            "source": [
                "const basePowerRequirements = [10, 15, 20, 25]; // Power requirements in watts\n",
                "const adjustedPowerRequirements = basePowerRequirements.map(requirement => requirement * 2);\n",
                "const vitalEquipment = adjustedPowerRequirements.filter(requirement => requirement <= 30);\n",
                "\n",
                "vitalEquipment.forEach(requirement => console.log(`Power requirement: ${requirement} watts`));"
            ]
        },
        {
            "cell_type": "markdown",
            "metadata": {},
            "source": [
                "### find()\n",
                "The `find()` method returns the value of the first element in the provided array that satisfies the provided testing function. If no values satisfy the testing function, undefined is returned.\n",
                "\n",
                "Example: Alexa searches for the first item in their inventory that requires exactly 30 watts, crucial for their central communication device."
            ]
        },
        {
            "cell_type": "code",
            "execution_count": null,
            "metadata": {},
            "outputs": [],
            "source": [
                "const basePowerRequirements = [10, 15, 20, 25];\n",
                "const adjustedPowerRequirements = basePowerRequirements.map(requirement => requirement * 2);\n",
                "const vitalEquipment = adjustedPowerRequirements.filter(requirement => requirement <= 30);\n",
                "\n",
                "const crucialRequirement = vitalEquipment.find(requirement => requirement === 30);\n",
                "\n",
                "console.log(`Crucial power requirement found: ${crucialRequirement} watts`);"
            ]
        },
        {
            "cell_type": "markdown",
            "metadata": {},
            "source": [
                "## Asynchronous JavaScript: Mastering Time and Sequence\n",
                "\n",
                "In programming you rarely have everything you need for a task already handed to you at the start.  You often are either waiting for something to happen, like a user pressing a button, or asking other computers for information.  This is a critical skill for dealing with operations that don't happen instantaneously, such as fetching data or waiting for a timer.\n",
                "\n",
                "### Understanding Asynchronous Programming\n",
                "\n",
                "Operations like server requests or time-consuming computations are asynchronous. This means the code initiated by these operations can complete in the future, allowing the program to run other tasks in the meantime. Keep in mind that computers are doing thousands of things all at the same time, all the time.  It needs to keep going and going without stopping for any single operation. \n",
                "\n",
                "Think of your phone.  At any time it is looking for incoming calls and texts, downloading emails, checking for updates, fetching notifications, and more, even if you have it locked and in your pocket.  To do this it has to keep constantly swapping attention through all the different tasks it is doing.  They all need attention but not all at once.  Asynchronous programming helps model this type of behavior in programming.  This is called **non-blocking** code.\n",
                "\n",
                "When you have non-blocking code, it says that while waiting for something to complete, like a network request, the computer can continue running other tasks instead of freezing up.  It keeps track of where it left off with your task, and when your data has been fetched or timer finished, it will notify your code to pick back up where it left off.\n",
                "\n",
                "### Promises: An Elegant Solution\n",
                "\n",
                "Promises provide a clean, manageable solution for handling asynchronous operations. A promise represents a value that may be available now, in the future, or never.  It sounds kinda complicated, but it's pretty simple to use.\n",
                "\n",
                "Here's a basic promise in action."
            ]
        },
        {
            "cell_type": "code",
            "execution_count": null,
            "metadata": {},
            "outputs": [],
            "source": [
                "const promise = new Promise((resolve, reject) => {\n",
                "  // Do some work in here.  If it succeeds, call resolve().\n",
                "  resolve(2);\n",
                "\n",
                "  // or it failed, so you can reject.\n",
                "  // reject(\"Math is broken\");\n",
                "});\n",
                "\n",
                "promise\n",
                "  .then(value => {\n",
                "    console.log(\"Success\", value);\n",
                "    return value * 2;\n",
                "  })\n",
                "  .then(doubled => {\n",
                "    console.log(\"Doubled\", doubled);\n",
                "  })\n",
                "  .catch(error => {\n",
                "    console.error(\"Blam!\", error);\n",
                "  });"
            ]
        },
        {
            "cell_type": "markdown",
            "metadata": {},
            "source": [
                "Now let's try something that has a delay in it.  It's a bit more complex..."
            ]
        },
        {
            "cell_type": "code",
            "execution_count": null,
            "metadata": {},
            "outputs": [],
            "source": [
                "function restoreMainPowerGrid() {\n",
                "  const promise = new Promise((resolve, reject) => {\n",
                "    // Simulate attempting to restore power.  Wait 2 seconds, and then continue...\n",
                "    setTimeout(() => {\n",
                "      const success = Math.random() > 0.5; // Random chance of success\n",
                "      console.log(\"Random success value\", success);\n",
                "\n",
                "      if (success) {\n",
                "        resolve(\"Power restored!\");\n",
                "      } else {\n",
                "        reject(\"Failed to restore power.\");\n",
                "      }\n",
                "    }, 2000); // setTimeout waits 2000 milliseconds, or 2 seconds\n",
                "  });\n",
                "\n",
                "  return promise;\n",
                "}\n",
                "\n",
                "restoreMainPowerGrid()\n",
                "  .then(message => {\n",
                "    console.log(message);\n",
                "  })\n",
                "  .catch(error => {\n",
                "    console.log(error);\n",
                "  });"
            ]
        },
        {
            "cell_type": "markdown",
            "metadata": {},
            "source": [
                "### Async/Await: Making Promises Pretty\n",
                "\n",
                "`async`/`await` makes it easier to work with promises, allowing asynchronous code to be written in a more synchronous-looking manner.  Synchronous code is much easier to read.  It flows from top to bottom, so you don't have to jump around to see what's going on. \n",
                "\n",
                "Before any function that's going to need to do something that will require waiting, add the word `async`.  This allows you to use the `await` keyword inside the function.  `await` will pause execution of the function any time you need to wait for some action.  The action has to return a Promise, but otherwise you can `await` as often as you need."
            ]
        },
        {
            "cell_type": "code",
            "execution_count": null,
            "metadata": {},
            "outputs": [],
            "source": [
                "async function getASpecialMessage() {\n",
                "  const response = await fetch(\"https://icanhazdadjoke.com/\",\n",
                "      { headers: { \"Accept\": \"application/json\" } }\n",
                "  );\n",
                "  const data = await response.json();\n",
                "  console.log(data[\"joke\"]);\n",
                "}\n",
                "\n",
                "getASpecialMessage();"
            ]
        },
        {
            "cell_type": "markdown",
            "metadata": {},
            "source": [
                "\n",
                "## Error Handling: Preparing for the Unexpected\n",
                "\n",
                "Error handling is about preparing your code to gracefully manage unexpected issues. Properly managed, errors provide feedback and opportunities for correction, rather than causing the program to crash or behave unpredictably.\n",
                "\n",
                "### Try-Catch Blocks\n",
                "\n",
                "The `try-catch` statement allows you to test a block of code for errors while it is being executed, and catch those errors if they occur. This method is indispensable for dealing with exceptions that you anticipate might occur during certain operations.\n",
                "\n",
                "Example: Alexa tries to initiate the emergency lighting system, which might fail due to power fluctuations caused by the storm."
            ]
        },
        {
            "cell_type": "code",
            "execution_count": null,
            "metadata": {},
            "outputs": [],
            "source": [
                "function activateEmergencyLights() {\n",
                "  try {\n",
                "    // Simulate attempting to turn on emergency lighting\n",
                "    if (Math.random() < 0.5) {\n",
                "      throw new Error(\"Power fluctuation detected. Cannot activate lights.\");\n",
                "    }\n",
                "    console.log(\"Emergency lights activated.\");\n",
                "  } catch (error) {\n",
                "    console.error(\"Error:\", error.message);\n",
                "  }\n",
                "}\n",
                "\n",
                "activateEmergencyLights();"
            ]
        },
        {
            "cell_type": "markdown",
            "metadata": {},
            "source": [
                "### Throwing Errors\n",
                "\n",
                "Whenever something goes wrong in your code you can indicate an error condition by `throw`ing.  `Throw` takes a message or object value, which becomes the content of an `Error`.  When you `throw` execution of the function stops immediately and returns.  The `error` is passed back out of the function where it can be handled with a `try/catch`.  If the error isn't caught then that function will immediately stop execution as well, and the error will continue to be passed back.  This keeps happening until the error is caught or the program exits.\n",
                "\n",
                "A common use of throwing errors is validating function parameters.  You can throw errors if invalid values are passed in to ensure the function works as expected."
            ]
        },
        {
            "cell_type": "code",
            "execution_count": null,
            "metadata": {},
            "outputs": [],
            "source": [
                "function recalibrateInstrument(instrument) {\n",
                "  if (typeof instrument !== 'object') {\n",
                "    throw new TypeError(\"Invalid instrument object. Recalibration failed.\");\n",
                "  }\n",
                "\n",
                "  // If you get here, the value passed in was ok.\n",
                "  console.log(\"Instrument recalibrated.\");\n",
                "}\n",
                "\n",
                "try {\n",
                "  recalibrateInstrument({\n",
                "    type: 'spectrometer',\n",
                "    id: 34819\n",
                "  });\n",
                "\n",
                "  //recalibrateInstrument('piano'); // Simulating an error scenario\n",
                "} catch (error) {\n",
                "  console.error(\"Error:\", error.message);\n",
                "}"
            ]
        },
        {
            "cell_type": "markdown",
            "metadata": {},
            "source": [
                "### Handling Asynchronous Errors\n",
                "\n",
                "In asynchronous operations, traditional `try-catch` blocks won't catch errors generated in promises **unless** they're used with `async-await`.\n",
                "\n",
                "Example: Sam checks the status of the external communications link, an asynchronous operation."
            ]
        },
        {
            "cell_type": "code",
            "execution_count": null,
            "metadata": {},
            "outputs": [],
            "source": [
                "function thisMightFail() {\n",
                "  return new Promise((resolve, reject) => {\n",
                "    setTimeout(() => {\n",
                "      if (Math.random() > 0.5) {\n",
                "        resolve(\"Link stable.\");\n",
                "      } else {\n",
                "        reject(\"Link failure.\");\n",
                "      }\n",
                "    }, 1000); // wait for 1 second.\n",
                "  });\n",
                "}\n",
                "\n",
                "async function checkCommunicationLink() {\n",
                "  try {\n",
                "    const status = await thisMightFail();\n",
                "    console.log(status);\n",
                "  } catch (error) {\n",
                "    console.error(\"Communication check failed:\", error);\n",
                "  }\n",
                "}\n",
                "\n",
                "checkCommunicationLink();"
            ]
        },
        {
            "cell_type": "markdown",
            "metadata": {},
            "source": [
                "# Challenge"
            ]
        },
        {
            "cell_type": "markdown",
            "metadata": {},
            "source": [
                "## Challenge: Race Against the Storm\n",
                "\n",
                "As Alexa and Sam prepared to adjust the lab's communication console, a hint of doubt crept into their minds. With the power now stable and their immediate safety seemingly secured, Alexa voiced a lingering concern.\n",
                "\n",
                "\"JAX, the storm's bound to let up eventually. Can't we just wait it out? Why risk sending a signal now when conditions are so unpredictable?\"\n",
                "\n",
                "JAX's avatar flickered momentarily on the screen, its response carrying an edge of urgency that hadn't been there before. \"I understand your hesitation, but the storm shows no signs of abating soon. We can't afford to wait—rescue opportunities could diminish as time passes, and our situation may worsen. Ensuring communication now is critical.\"\n",
                "\n",
                "Sam, rubbing his chin thoughtfully, looked back at the console. \"It does seem like a now-or-never kind of deal,\" he muttered. \"And I guess getting a message out sooner could help coordinate any needed rescue efforts or secure additional aid.\"\n",
                "\n",
                "JAX nodded, its digital expression grave. \"Exactly, Sam. Timing is crucial, and the right moment to amplify our signal aligns with the satellite’s narrow windows. We must act swiftly to optimize our chances of reconnecting with the outside world.\"\n",
                "\n",
                "Despite their uncertainties, Alexa and Sam sensed the weight of the decision resting on their shoulders. The urgency in JAX's tone spurred them into action, pushing aside doubts as they focused on the task of breaking through the atmospheric chaos. Unbeknownst to them, their efforts played into a more complex scenario unfolding behind the scenes, where every moment they worked brought JAX—or whoever was now controlling their actions—closer to achieving an unseen objective.\n",
                "\n",
                "### Instructions for Students\n",
                "\n",
                "In this week's challenge, you will be simulating the adjustment of the lab's external communications system based on real-time storm intensity measurements and the satellite's position. This simulation will require you to handle asynchronous data fetches, apply array methods to filter and process data, and adjust communication power settings based on calculated conditions.\n",
                "\n",
                "Objective: Create a function that continuously adjusts the power of the lab's communication system based on storm intensity and satellite positioning. Your function must fetch asynchronous measurements, decide the best course of action at each interval, and adjust the communication settings accordingly.\n",
                "\n",
                "Detailed Instructions:\n",
                "Fetching Asynchronous Measurements: You will use a provided function that simulates fetching storm intensity and satellite position data asynchronously.\n",
                "\n",
                "Data Analysis and Filtering: Use array methods to filter out unusable data based on the satellite's position and the storm's intensity.\n",
                "\n",
                "Adjust Power Settings: Apply calculations to adjust the communication power settings based on the storm's intensity. If the storm is too strong, you might need to pause communications temporarily.\n",
                "\n",
                "Use Async/Await: Implement async/await for handling the asynchronous nature of the data fetching and processing to ensure the sequence of operations is maintained.\n",
                "\n",
                "Real-time Logging and Feedback: Provide real-time feedback through logging to track the status of adjustments and any critical conditions that might affect communications.\n",
                "\n",
                "Skeleton of the Solution and Helper Functions:\n",
                "Here is a basic structure for your function and an example of how the measurement fetching function might look:"
            ]
        },
        {
            "cell_type": "code",
            "execution_count": null,
            "metadata": {},
            "outputs": [],
            "source": [
                "async function adjustCommunication() {\n",
                "    // Your code goes here.\n",
                "\n",
                "}\n",
                "\n",
                "// Don't change anything that follows.\n",
                "const testData = [\n",
                "    { error: false, stormIntensity: 53, satellitePosition: 'optimal' },\n",
                "    { error: false, stormIntensity: 26, satellitePosition: 'suboptimal' },\n",
                "    { error: true, stormIntensity: 30, satellitePosition: 'optimal' }, // Expect a rejection here\n",
                "    { error: false, stormIntensity: 43, satellitePosition: 'optimal' },\n",
                "    { error: false, stormIntensity: 83, satellitePosition: 'optimal' },\n",
                "    { error: true, stormIntensity: 53, satellitePosition: 'optimal' },\n",
                "    { error: false, stormIntensity: 53, satellitePosition: 'suboptimal' },\n",
                "    { error: false, stormIntensity: 35, satellitePosition: 'optimal' },\n",
                "    { error: false, stormIntensity: 49, satellitePosition: 'optimal' },\n",
                "];\n",
                "let lastRead = -1; // Start at -1 so the first increment sets it to 0\n",
                "\n",
                "async function fetchMeasurements() {\n",
                "    return new Promise((resolve, reject) => {\n",
                "        setTimeout(() => {\n",
                "            if (lastRead + 1 >= testData.length) {\n",
                "                return reject('All data is read.');\n",
                "            }\n",
                "\n",
                "            lastRead += 1;\n",
                "            const data = testData[lastRead];\n",
                "            console.log(lastRead, JSON.stringify(data));\n",
                "\n",
                "            if (data.error) {\n",
                "                return reject('Boom'); // Simulates an error condition\n",
                "            }\n",
                "\n",
                "            return resolve(data);\n",
                "        }, 1);\n",
                "    });\n",
                "}\n",
                "\n",
                "async function testYourCode() {\n",
                "    const expected = [false, false, false, true, false, false, false, true, true];\n",
                "    try {\n",
                "        for (let i = 0; i < testData.length; i++) {\n",
                "            const shouldAdjust = await adjustCommunication();\n",
                "            if (shouldAdjust !== expected[i]) {\n",
                "                console.error(`There was an error on adjusting when stormIntensity = ${testData[i].stormIntensity} and satellitePosition=${testData[i].satellitePosition}`);\n",
                "                return;\n",
                "            }\n",
                "        }\n",
                "        console.log('Success. You did it!');\n",
                "    } catch (err) {\n",
                "        console.error('You forgot to catch errors. Try again.', err);\n",
                "    }\n",
                "}\n",
                "\n",
                "testYourCode();"
            ]
        },
        {
            "cell_type": "markdown",
            "metadata": {},
            "source": [
                "# Take Home\n",
                "\n",
                "You can run this at home on any modern web browser without installing anything. Just open this link: https://bit.ly/jaxchp4."
            ]
        }
    ],
    "metadata": {
        "kernelspec": {
            "display_name": "JavaScript (Web Worker)",
            "language": "javascript",
            "name": "javascript"
        },
        "language_info": {
            "codemirror_mode": {
                "name": "javascript"
            },
            "file_extension": ".js",
            "mimetype": "text/javascript",
            "name": "javascript",
            "nbconvert_exporter": "javascript",
            "pygments_lexer": "javascript",
            "version": "es2017"
        }
    },
    "nbformat": 4,
    "nbformat_minor": 4
}
