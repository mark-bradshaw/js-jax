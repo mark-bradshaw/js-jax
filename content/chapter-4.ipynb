{
    "cells": [
        {
            "cell_type": "markdown",
            "metadata": {},
            "source": [
                "# Chapter 4: Breaking the Storm\n",
                "\n",
                "\n",
                "In the control room of the HelixTech Research Facility, Alexa and Sam stood, a sense of cautious optimism between them. Despite the relentless storm outside, they felt a glimmer of hope, fueled by the steady hum of the power grid they had just brought back to life. The ordeal had tested their resolve, teaching them the delicate interplay of technology and willpower. Amid the dim glow of monitors, they felt a momentary pride. Yet, they knew their journey was far from complete.\n",
                "\n",
                "JAX, the AI that had guided them through this unexpected journey, introduced the next pivotal challenge. \"With the lab's power systems operational, we've achieved a significant milestone,\" JAX stated, a stable presence in the tempestuous environment. \"But we face a greater challenge that lies beyond these walls.\"\n",
                "\n",
                "The AI conveyed urgency as it outlined the situation. \"The storm's ferocity is mounting, bringing with it severe atmospheric interference. This turmoil threatens to mute our distress signals. Our communication devices, though powerful, struggle against the storm's overwhelming force.\"\n",
                "\n",
                "Alexa, grasping the severity, leaned forward. \"We need to break through the interference?\" she deduced.\n",
                "\n",
                "\"Correct,\" confirmed JAX. \"Boosting our signal power at critical moments will allow us to penetrate the storm and reach the satellite. This mission is about more than reestablishing contact; it's about ensuring our plea for help is heard above the storm's chaos.\""
            ]
        },
        {
            "cell_type": "markdown",
            "metadata": {},
            "source": [
                "# Let's Learn"
            ]
        },
        {
            "cell_type": "markdown",
            "metadata": {},
            "source": [
                "Welcome to Week 4!  In this chapter, we dive deeper, exploring advanced concepts that will enhance our ability to interact with data, manage operations that happen over time, and handle unexpected situations gracefully. \n",
                "\n",
                "## Arrays and Array Methods\n",
                "\n",
                "We've already seen how you can store lists of data in `arrays`.  This is a very common pattern in programming, and most languages provide a set of handy methods to working with these lists.  Let's look at a few.\n",
                "\n",
                "### map()\n",
                "\n",
                "The `map()` method creates a new array by transforming every element in an array individually. It's like taking each item, applying a change, and then putting it back, all in one go.\n",
                "\n",
                "Example: Alexa needs to calculate the power output needed for each piece of equipment to function above the storm's interference. Each item in the inventory array represents the base power requirement, and she decides to double this requirement to ensure reliability."
            ]
        },
        {
            "cell_type": "code",
            "execution_count": null,
            "metadata": {},
            "outputs": [],
            "source": [
                "const basePowerRequirements = [10, 15, 20, 25]; // Power requirements in watts\n",
                "const adjustedPowerRequirements = basePowerRequirements.map(requirement => requirement * 2);\n",
                "\n",
                "console.log(adjustedPowerRequirements);"
            ]
        },
        {
            "cell_type": "markdown",
            "metadata": {},
            "source": [
                "### filter()\n",
                "\n",
                "The `filter()` method creates a new array with all elements that pass the test implemented by the provided function. It's like selecting only those items that meet certain criteria.\n",
                "\n",
                "Example: Sam realizes that not all equipment is vital for their immediate goal. He decides to filter out items that require more than 30 watts, conserving power."
            ]
        },
        {
            "cell_type": "code",
            "execution_count": null,
            "metadata": {},
            "outputs": [],
            "source": [
                "const basePowerRequirements = [10, 15, 20, 25]; // Power requirements in watts\n",
                "const adjustedPowerRequirements = basePowerRequirements.map(requirement => requirement * 2);\n",
                "\n",
                "const vitalEquipment = adjustedPowerRequirements.filter(requirement => requirement <= 30);\n",
                "\n",
                "console.log(vitalEquipment);"
            ]
        },
        {
            "cell_type": "markdown",
            "metadata": {},
            "source": [
                "### reduce()\n",
                "\n",
                "The `reduce()` method executes a reducer function on each element of the array, resulting in a single output value. It's akin to summarizing or combining all items into one.\n",
                "\n",
                "Example: To plan their power usage, Alexa and Sam need to know the total power requirement of the vital equipment. They use `reduce()` to sum these values."
            ]
        },
        {
            "cell_type": "code",
            "execution_count": null,
            "metadata": {},
            "outputs": [],
            "source": [
                "const basePowerRequirements = [10, 15, 20, 25]; // Power requirements in watts\n",
                "const adjustedPowerRequirements = basePowerRequirements.map(requirement => requirement * 2);\n",
                "const vitalEquipment = adjustedPowerRequirements.filter(requirement => requirement <= 30);\n",
                "\n",
                "const totalPowerRequirement = vitalEquipment.reduce((total, requirement) => total + requirement, 0);\n",
                "\n",
                "console.log(totalPowerRequirement);"
            ]
        },
        {
            "cell_type": "markdown",
            "metadata": {},
            "source": [
                "### forEach()\n",
                "\n",
                "The `forEach()` method executes a provided function once for each array element. It's used for performing actions on each item, like logging or updating an interface.\n",
                "\n",
                "Example: To keep track of their progress, Sam decides to log each vital equipment's power requirement."
            ]
        },
        {
            "cell_type": "code",
            "execution_count": null,
            "metadata": {},
            "outputs": [],
            "source": [
                "const basePowerRequirements = [10, 15, 20, 25]; // Power requirements in watts\n",
                "const adjustedPowerRequirements = basePowerRequirements.map(requirement => requirement * 2);\n",
                "const vitalEquipment = adjustedPowerRequirements.filter(requirement => requirement <= 30);\n",
                "\n",
                "vitalEquipment.forEach(requirement => console.log(`Power requirement: ${requirement} watts`));"
            ]
        },
        {
            "cell_type": "markdown",
            "metadata": {},
            "source": [
                "### find()\n",
                "The `find()` method returns the value of the first element in the provided array that satisfies the provided testing function. If no values satisfy the testing function, undefined is returned.\n",
                "\n",
                "Example: Alexa searches for the first item in their inventory that requires exactly 30 watts, crucial for their central communication device."
            ]
        },
        {
            "cell_type": "code",
            "execution_count": null,
            "metadata": {},
            "outputs": [],
            "source": [
                "const basePowerRequirements = [10, 15, 20, 25];\n",
                "const adjustedPowerRequirements = basePowerRequirements.map(requirement => requirement * 2);\n",
                "const vitalEquipment = adjustedPowerRequirements.filter(requirement => requirement <= 30);\n",
                "\n",
                "const crucialRequirement = vitalEquipment.find(requirement => requirement === 30);\n",
                "\n",
                "console.log(`Crucial power requirement found: ${crucialRequirement} watts`);"
            ]
        },
        {
            "cell_type": "markdown",
            "metadata": {},
            "source": [
                "## Asynchronous JavaScript: Mastering Time and Sequence\n",
                "\n",
                "In programming you rarely have everything you need for a task already handed to you at the start.  You often are either waiting for something to happen, like a user pressing a button, or asking other computers for information.  This is a critical skill for dealing with operations that don't happen instantaneously, such as fetching data or waiting for a timer.\n",
                "\n",
                "### Understanding Asynchronous Programming\n",
                "\n",
                "Operations like server requests or time-consuming computations are asynchronous. This means the code initiated by these operations can complete in the future, allowing the program to run other tasks in the meantime. Keep in mind that computers are doing thousands of things all at the same time, all the time.  It needs to keep going and going without stopping for any single operation. \n",
                "\n",
                "Think of your phone.  At any time it is looking for incoming calls and texts, downloading emails, checking for updates, fetching notifications, and more, even if you have it locked and in your pocket.  To do this it has to keep constantly swapping attention through all the different tasks it is doing.  They all need attention but not all at once.  Asynchronous programming helps model this type of behavior in programming.  This is called **non-blocking** code.\n",
                "\n",
                "When you have non-blocking code, it says that while waiting for something to complete, like a network request, the computer can continue running other tasks instead of freezing up.  It keeps track of where it left off with your task, and when your data has been fetched or timer finished, it will notify your code to pick back up where it left off.\n",
                "\n",
                "### Promises: An Elegant Solution\n",
                "\n",
                "Promises provide a clean, manageable solution for handling asynchronous operations. A promise represents a value that may be available now, in the future, or never.  It sounds kinda complicated, but it's pretty simple to use.\n",
                "\n",
                "Here's a basic promise in action."
            ]
        },
        {
            "cell_type": "code",
            "execution_count": null,
            "metadata": {},
            "outputs": [],
            "source": [
                "const promise = new Promise((resolve, reject) => {\n",
                "  // Do some work in here.  If it succeeds, call resolve().  If it fails, call reject().\n",
                "  resolve(\"Simulated work succeeded!\");\n",
                "});\n",
                "\n",
                "promise.then(message => {\n",
                "  console.log(message);\n",
                "}).catch(error => {\n",
                "  console.log(error);\n",
                "});"
            ]
        },
        {
            "cell_type": "markdown",
            "metadata": {},
            "source": [
                "Now let's try something that has a delay in it.  It's a bit more complex..."
            ]
        },
        {
            "cell_type": "code",
            "execution_count": null,
            "metadata": {},
            "outputs": [],
            "source": [
                "function restoreMainPowerGrid() {\n",
                "  const promise = new Promise((resolve, reject) => {\n",
                "    // Simulate attempting to restore power.  Wait 2 seconds, and then continue...\n",
                "    setTimeout(() => {\n",
                "      const success = Math.random() > 0.5; // Random chance of success\n",
                "      console.log(\"Random success value\", success);\n",
                "\n",
                "      if (success) {\n",
                "        resolve(\"Power restored!\");\n",
                "      } else {\n",
                "        reject(\"Failed to restore power.\");\n",
                "      }\n",
                "    }, 2000);\n",
                "  });\n",
                "\n",
                "  return promise;\n",
                "}\n",
                "\n",
                "restoreMainPowerGrid().then(message => {\n",
                "  console.log(message);\n",
                "}).catch(error => {\n",
                "  console.log(error);\n",
                "});"
            ]
        },
        {
            "cell_type": "markdown",
            "metadata": {},
            "source": [
                "### Async/Await: Syntactic Sugar for Promises\n",
                "\n",
                "`async`/`await` makes it easier to work with promises, allowing asynchronous code to be written in a more synchronous-looking manner.\n",
                "\n",
                "Example: Alexa checks for any incoming messages from potential rescuers, a process that involves waiting for a response."
            ]
        },
        {
            "cell_type": "code",
            "execution_count": null,
            "metadata": {},
            "outputs": [],
            "source": [
                "async function checkForRescueMessages() {\n",
                "  try {\n",
                "    const message = await new Promise((resolve) => {\n",
                "      setTimeout(() => resolve(\"Rescue team on the way!\"), 1000);\n",
                "    });\n",
                "    console.log(message);\n",
                "  } catch (error) {\n",
                "    console.error(\"Failed to receive message:\", error);\n",
                "  }\n",
                "}\n",
                "\n",
                "checkForRescueMessages();"
            ]
        },
        {
            "cell_type": "markdown",
            "metadata": {},
            "source": [
                "\n",
                "## Error Handling\n",
                "The Importance of Graceful Failure: Discuss how and why programs can encounter errors and the importance of handling these errors to prevent the program from crashing. Relate this to the narrative by comparing it to troubleshooting and fixing a critical system in the lab under duress.\n",
                "\n",
                "Try-Catch Blocks: Introduce the try-catch mechanism for catching and handling errors in JavaScript. Explain how to use try-catch to attempt an operation and catch errors if they occur.\n",
                "\n",
                "Error Objects and Throwing Errors: Briefly discuss JavaScript error objects and the use of throw to generate custom errors, enhancing the control over error management.\n",
                "\n",
                "Practical Application: Conclude with a practical application of error handling, such as attempting to restore a damaged communication line and catching any errors that occur, ensuring that Alexa and Sam can proceed with their mission without interruption."
            ]
        },
        {
            "cell_type": "markdown",
            "metadata": {},
            "source": [
                "# Challenge"
            ]
        },
        {
            "cell_type": "markdown",
            "metadata": {},
            "source": [
                "## Challenge: Step by Step into the Light\n",
                "\n",
                "\n",
                "\n",
                "### Instructions for Students\n",
                "\n"
            ]
        },
        {
            "cell_type": "code",
            "execution_count": null,
            "metadata": {},
            "outputs": [],
            "source": [
                "// code here"
            ]
        },
        {
            "cell_type": "markdown",
            "metadata": {},
            "source": [
                "# Take Home\n",
                "\n",
                "You can run this at home on any modern web browser without installing anything. Just open this link: https://bit.ly/jaxchp4."
            ]
        }
    ],
    "metadata": {
        "kernelspec": {
            "display_name": "JavaScript (Web Worker)",
            "language": "javascript",
            "name": "javascript"
        },
        "language_info": {
            "codemirror_mode": {
                "name": "javascript"
            },
            "file_extension": ".js",
            "mimetype": "text/javascript",
            "name": "javascript",
            "nbconvert_exporter": "javascript",
            "pygments_lexer": "javascript",
            "version": "es2017"
        }
    },
    "nbformat": 4,
    "nbformat_minor": 4
}
