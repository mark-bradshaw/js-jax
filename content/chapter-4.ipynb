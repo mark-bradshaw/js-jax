{
    "cells": [
        {
            "cell_type": "markdown",
            "metadata": {},
            "source": [
                "# Chapter 4: Breaking the Storm\n",
                "\n",
                "\n",
                "In the control room of the HelixTech Research Facility, Alexa and Sam stood, a sense of cautious optimism between them. Despite the relentless storm outside, they felt a glimmer of hope, fueled by the steady hum of the power grid they had just brought back to life. The ordeal had tested their resolve, teaching them the delicate interplay of technology and willpower. Amid the dim glow of monitors, they felt a momentary pride. Yet, they knew their journey was far from complete.\n",
                "\n",
                "JAX, the AI that had guided them through this unexpected journey, introduced the next pivotal challenge. \"With the lab's power systems operational, we've achieved a significant milestone,\" JAX stated, a stable presence in the tempestuous environment. \"But we face a greater challenge that lies beyond these walls.\"\n",
                "\n",
                "The AI conveyed urgency as it outlined the situation. \"The storm's ferocity is mounting, bringing with it severe atmospheric interference. This turmoil threatens to mute our distress signals. Our communication devices, though powerful, struggle against the storm's overwhelming force.\"\n",
                "\n",
                "Alexa, grasping the severity, leaned forward. \"We need to break through the interference?\" she deduced.\n",
                "\n",
                "\"Correct,\" confirmed JAX. \"Boosting our signal power at critical moments will allow us to penetrate the storm and reach the satellite. This mission is about more than reestablishing contact; it's about ensuring our plea for help is heard above the storm's chaos.\""
            ]
        },
        {
            "cell_type": "markdown",
            "metadata": {},
            "source": [
                "# Let's Learn"
            ]
        },
        {
            "cell_type": "markdown",
            "metadata": {},
            "source": [
                "Welcome to Week 4!  In this chapter, we dive deeper, exploring advanced concepts that will enhance our ability to interact with data, manage operations that happen over time, and handle unexpected situations gracefully. \n",
                "\n",
                "## Arrays and Array Methods\n",
                "\n",
                "We've already seen how you can store lists of data in `arrays`.  This is a very common pattern in programming, and most languages provide a set of handy methods to working with these lists.  Let's look at a few.\n",
                "\n",
                "### map()\n",
                "\n",
                "The `map()` method creates a new array by transforming every element in an array individually. It's like taking each item, applying a change, and then putting it back, all in one go.\n",
                "\n",
                "Example: Alexa needs to calculate the power output needed for each piece of equipment to function above the storm's interference. Each item in the inventory array represents the base power requirement, and she decides to double this requirement to ensure reliability."
            ]
        },
        {
            "cell_type": "code",
            "execution_count": null,
            "metadata": {},
            "outputs": [],
            "source": [
                "const basePowerRequirements = [10, 15, 20, 25]; // Power requirements in watts\n",
                "const adjustedPowerRequirements = basePowerRequirements.map(requirement => requirement * 2);\n",
                "\n",
                "console.log(adjustedPowerRequirements);"
            ]
        },
        {
            "cell_type": "markdown",
            "metadata": {},
            "source": [
                "### filter()\n",
                "\n",
                "The `filter()` method creates a new array with all elements that pass the test implemented by the provided function. It's like selecting only those items that meet certain criteria.\n",
                "\n",
                "Example: Sam realizes that not all equipment is vital for their immediate goal. He decides to filter out items that require more than 30 watts, conserving power."
            ]
        },
        {
            "cell_type": "code",
            "execution_count": null,
            "metadata": {},
            "outputs": [],
            "source": [
                "const basePowerRequirements = [10, 15, 20, 25]; // Power requirements in watts\n",
                "const adjustedPowerRequirements = basePowerRequirements.map(requirement => requirement * 2);\n",
                "\n",
                "const vitalEquipment = adjustedPowerRequirements.filter(requirement => requirement <= 30);\n",
                "\n",
                "console.log(vitalEquipment);"
            ]
        },
        {
            "cell_type": "markdown",
            "metadata": {},
            "source": [
                "### reduce()\n",
                "\n",
                "The `reduce()` method executes a reducer function on each element of the array, resulting in a single output value. It's akin to summarizing or combining all items into one.\n",
                "\n",
                "Example: To plan their power usage, Alexa and Sam need to know the total power requirement of the vital equipment. They use `reduce()` to sum these values."
            ]
        },
        {
            "cell_type": "code",
            "execution_count": null,
            "metadata": {},
            "outputs": [],
            "source": [
                "const basePowerRequirements = [10, 15, 20, 25]; // Power requirements in watts\n",
                "const adjustedPowerRequirements = basePowerRequirements.map(requirement => requirement * 2);\n",
                "const vitalEquipment = adjustedPowerRequirements.filter(requirement => requirement <= 30);\n",
                "\n",
                "const totalPowerRequirement = vitalEquipment.reduce((total, requirement) => total + requirement, 0);\n",
                "\n",
                "console.log(totalPowerRequirement);"
            ]
        },
        {
            "cell_type": "markdown",
            "metadata": {},
            "source": [
                "### forEach()\n",
                "\n",
                "The `forEach()` method executes a provided function once for each array element. It's used for performing actions on each item, like logging or updating an interface.\n",
                "\n",
                "Example: To keep track of their progress, Sam decides to log each vital equipment's power requirement."
            ]
        },
        {
            "cell_type": "code",
            "execution_count": null,
            "metadata": {},
            "outputs": [],
            "source": [
                "const basePowerRequirements = [10, 15, 20, 25]; // Power requirements in watts\n",
                "const adjustedPowerRequirements = basePowerRequirements.map(requirement => requirement * 2);\n",
                "const vitalEquipment = adjustedPowerRequirements.filter(requirement => requirement <= 30);\n",
                "\n",
                "vitalEquipment.forEach(requirement => console.log(`Power requirement: ${requirement} watts`));"
            ]
        },
        {
            "cell_type": "markdown",
            "metadata": {},
            "source": [
                "### find()\n",
                "The `find()` method returns the value of the first element in the provided array that satisfies the provided testing function. If no values satisfy the testing function, undefined is returned.\n",
                "\n",
                "Example: Alexa searches for the first item in their inventory that requires exactly 30 watts, crucial for their central communication device."
            ]
        },
        {
            "cell_type": "code",
            "execution_count": null,
            "metadata": {},
            "outputs": [],
            "source": [
                "const basePowerRequirements = [10, 15, 20, 25];\n",
                "const adjustedPowerRequirements = basePowerRequirements.map(requirement => requirement * 2);\n",
                "const vitalEquipment = adjustedPowerRequirements.filter(requirement => requirement <= 30);\n",
                "\n",
                "const crucialRequirement = vitalEquipment.find(requirement => requirement === 30);\n",
                "\n",
                "console.log(`Crucial power requirement found: ${crucialRequirement} watts`);"
            ]
        },
        {
            "cell_type": "markdown",
            "metadata": {},
            "source": [
                "## Asynchronous JavaScript\n",
                "The Nature of Asynchronous Programming: Explain the concept of asynchronous operations in JavaScript, stressing the importance of these operations in performing tasks that take time, like sending a signal or fetching data, without blocking the main thread.\n",
                "\n",
                "Understanding Callbacks: Introduce callbacks as a way to delay actions until a previous operation completes. Illustrate with a simple example, such as waiting for a door to unlock before moving through it.\n",
                "\n",
                "Promises: Explain promises as an evolution of callbacks, providing a cleaner and more manageable way to handle asynchronous operations. Describe how promises can represent operations that are either fulfilled or rejected and how to use .then(), .catch(), and .finally() to handle these outcomes.\n",
                "\n",
                "Async/Await: Introduce async/await as syntactic sugar over promises, making asynchronous code look and behave a bit more like synchronous code. Provide an example, possibly related to waiting for a successful communication link before sending out a distress signal.\n",
                "\n",
                "Error Handling\n",
                "The Importance of Graceful Failure: Discuss how and why programs can encounter errors and the importance of handling these errors to prevent the program from crashing. Relate this to the narrative by comparing it to troubleshooting and fixing a critical system in the lab under duress.\n",
                "\n",
                "Try-Catch Blocks: Introduce the try-catch mechanism for catching and handling errors in JavaScript. Explain how to use try-catch to attempt an operation and catch errors if they occur.\n",
                "\n",
                "Error Objects and Throwing Errors: Briefly discuss JavaScript error objects and the use of throw to generate custom errors, enhancing the control over error management.\n",
                "\n",
                "Practical Application: Conclude with a practical application of error handling, such as attempting to restore a damaged communication line and catching any errors that occur, ensuring that Alexa and Sam can proceed with their mission without interruption."
            ]
        },
        {
            "cell_type": "code",
            "execution_count": null,
            "metadata": {
                "language": "javascript",
                "trusted": true
            },
            "outputs": [],
            "source": [
                "const sensorReadings = [23, 35, 42, 20, 15];\n",
                "console.log(sensorReadings[0]); // Outputs the *first* temperature reading: 23"
            ]
        },
        {
            "cell_type": "markdown",
            "metadata": {},
            "source": [
                "### Array Methods\n",
                "\n",
                "Arrays come with a variety of built in things you can do with them, or ask about them.  These are called `properties` and `methods`.\n",
                "\n",
                "A `property` is something that is known about an array.  One example would be `length`.  Every array has a length property that tells you how many items are in the array.  As you add and remove items the length will change to match.  You don't have to change it yourself.  It's just built into all arrays."
            ]
        },
        {
            "cell_type": "code",
            "execution_count": null,
            "metadata": {},
            "outputs": [],
            "source": [
                "const sensorReadings = [23, 35, 42, 20, 15];\n",
                "console.log(sensorReadings.length);"
            ]
        },
        {
            "cell_type": "markdown",
            "metadata": {},
            "source": [
                "A `method` is something you can do with the array.  They are functions that are built in to every array.  Some common array methods are:\n",
                "- `push()` - Adds one or more elements to the end of an array and returns the new length\n",
                "- `pop()` - Removes the last element from an array and returns that element\n",
                "- `shift()` - Removes the first element from an array and returns that element\n",
                "- `unshift()` - Adds one or more elements to the beginning of\n",
                "- `slice()` - Extracts a section of the array and returns a new array\n",
                "\n",
                "To run an array method, you put the name of the array, a dot, and then the name of the method.  Here's how you use `push` to add an item to the end of an array and `pop` to remove the last item:"
            ]
        },
        {
            "cell_type": "code",
            "execution_count": null,
            "metadata": {},
            "outputs": [],
            "source": [
                "const sensorReadings = [23, 35, 42, 20, 15];\n",
                "\n",
                "sensorReadings.push(30); // Adds a new reading at the end of the array\n",
                "console.log(sensorReadings);\n",
                "sensorReadings.pop(); // Removes the last reading from the array\n",
                "console.log(sensorReadings);\n",
                "\n",
                "console.log(sensorReadings.slice(1, 3)); // Does not change the array."
            ]
        },
        {
            "cell_type": "markdown",
            "metadata": {},
            "source": [
                "### Strings as Arrays\n",
                "\n",
                "Strings, as we've talked about before, are a collection of characters enclosed in quotes.  In JavaScript, strings can also be treated like arrays - meaning we can access individual characters by their index number and strings have a length.  But that doesn't mean that strings are the same as arrays.  They have their own built in properties and methods that are special to strings.  Here's how we can get specific characters of a string:"
            ]
        },
        {
            "cell_type": "code",
            "execution_count": null,
            "metadata": {},
            "outputs": [],
            "source": [
                "const name = \"Alexa\";\n",
                "console.log(name, \"is\", name.length, \"charaters long\");\n",
                "console.log(name[1], name[2]); // Remember the number starts at 0, not 1."
            ]
        },
        {
            "cell_type": "markdown",
            "metadata": {},
            "source": [
                "## Introduction to Objects\n",
                "\n",
                "Objects are collections of data that are related, but are not grouped like an array.  It can be helpful to keep all the values that relate to one thing together in one place.  We call that collection an `object`, and the pieces of data in it are called `properties`.  Each `property` has a `name` and a `value`.\n",
                "\n",
                "For example, if you were storing data on persons you might track their name, hair and eye color, height, age etc.  These are all different types of information.  You have strings and numbers mixed together, and if you put them all in an array it would be hard to keep track of the order of all the data.  You could store all of that together in one object like this:\n",
                "\n",
                "```js\n",
                "const person = {\n",
                "    name: \"John\",\n",
                "    hairColor: \"brown\",\n",
                "    eyeColor: \"blue\",\n",
                "    height: 61,\n",
                "    age: 15\n",
                "};\n",
                "```\n",
                "\n",
                "An object is a variable, so you start with `const`, then the name, then `=`, and then curly braces `{}`.  Inside the brace you list all the properties that you want to store.  You can add new items whenever you want, and remove them as well."
            ]
        },
        {
            "cell_type": "code",
            "execution_count": null,
            "metadata": {},
            "outputs": [],
            "source": [
                "const climateControl = {\n",
                "    'temperature': 22,\n",
                "    'humidity': 50,\n",
                "    'status': 'stable'\n",
                "};\n",
                "console.log(climateControl.temperature); // Outputs the temperature: 22"
            ]
        },
        {
            "cell_type": "markdown",
            "metadata": {},
            "source": [
                "You can stick any type of data that javascript understands into an object.  You can add items whenever you want, and remove things if needed.  "
            ]
        },
        {
            "cell_type": "code",
            "execution_count": null,
            "metadata": {},
            "outputs": [],
            "source": [
                "const climateControl = {\n",
                "    'temperature': 22,\n",
                "    'humidity': 50,\n",
                "    'status': 'stable'\n",
                "};\n",
                "\n",
                "// Even though the `climateControl` variable is declared with `const`, you can still\n",
                "// change the stuff inside it.\n",
                "climateControl.pressure = '1 atm'; // Adds a new property: pressure\n",
                "climateControl['status'] = 'adjusting'; // Changes the value of the status property\n",
                "console.log(JSON.stringify(climateControl)); // Using JSON.stringify to format the object for printing"
            ]
        },
        {
            "cell_type": "markdown",
            "metadata": {},
            "source": [
                "### Array of Objects\n",
                "\n",
                "You can mix and match objects and arrays.  You can have objects with arrays inside, and you can have arrays with objects inside.  Here's an example of an array where every item in the array is a separate object:"
            ]
        },
        {
            "cell_type": "code",
            "execution_count": null,
            "metadata": {},
            "outputs": [],
            "source": [
                "// each item in this array is an object.\n",
                "const allSystems = [\n",
                "    { 'name': 'communication', 'status': 'active', 'critical': true },\n",
                "    { 'name': 'security', 'status': 'inactive', 'critical': true },\n",
                "    // ... other systems\n",
                "];\n",
                "\n",
                "console.log(JSON.stringify(allSystems[1])); // get the *second* object in the array.\n",
                "console.log(allSystems[1]['status']); // print out the 'status' of the second object."
            ]
        },
        {
            "cell_type": "markdown",
            "metadata": {},
            "source": [
                "### Loops with Arrays and Objects\n",
                "\n",
                "When you have arrays, you usually need to look through all the data in an array to use it for some part of your task.  Combining loops with arrays and objects allows you to perform operations on collections of data."
            ]
        },
        {
            "cell_type": "code",
            "execution_count": null,
            "metadata": {},
            "outputs": [],
            "source": [
                "const allSystems = [\n",
                "    { 'name': 'communication', 'status': 'inactive', 'critical': true },\n",
                "    { 'name': 'security', 'status': 'active', 'critical': true },\n",
                "    { 'name': 'power', 'status': 'inactive', 'critical': true },\n",
                "    { 'name': 'air conditioning', 'status': 'inactive', 'critical': false }\n",
                "];\n",
                "\n",
                "for (let i = 0; i < allSystems.length; i++) {\n",
                "    const system = allSystems[i];\n",
                "\n",
                "    if (system.critical && system.status === 'inactive') {\n",
                "        console.log(`${allSystems[i].name} system is critical and needs to be activated.`);\n",
                "    }\n",
                "}"
            ]
        },
        {
            "cell_type": "markdown",
            "metadata": {},
            "source": [
                "# Challenge"
            ]
        },
        {
            "cell_type": "markdown",
            "metadata": {},
            "source": [
                "## Challenge: Step by Step into the Light\n",
                "\n",
                "In the flickering shadows of the HelixTech Research Facility, with the storm still raging outside, Alexa and Sam faced their next critical challenge: to bring the lab's power grid fully online. JAX, the guiding AI voice, explained the situation. \"The lab's power systems are in disarray, and we're operating in the dark. We need to activate the backup generators, monitor the battery banks, and ensure all systems are running within their power limits to avoid overloads or shutdowns.\"\n",
                "\n",
                "Their task was to use their coding skills to assess the status of various components in the power grid. Each component's status included whether it was on or off, its startup order, current power consumption, and power limits. \"By analyzing this data,\" JAX instructed, \"you'll determine the next steps to stabilize the power grid. It could mean turning a system on, adjusting power levels, or maintaining the current state if everything is operating as it should.\"\n",
                "\n",
                "\"I'm prevented from writing this code for you, so I leave it in your hands to complete the task.\"\n",
                "\n",
                "Armed with their new knowledge, Alexa and Sam got to work. The lab's survival depended on their ability to think logically, applying what they had learned about variables, conditionals, loops, and objects. Their code would need to sift through the grid's components, making decisions to ensure a steady supply of power to the lab. This was no small feat, given the complexity of the task and their relative newness to coding. But the knowledge they had acquired gave them hope.\n",
                "\n",
                "As they typed away, the sounds of the storm seemed to fade into the background, replaced by the focus and determination to succeed. They were not just fighting to save the lab and themselves from the darkness; they were battling to prove their newfound skills could make a real-world difference. With each line of code, they edged closer to lighting up the lab and, with it, their path forward through the storm.\n",
                "\n",
                "### Instructions for Students\n",
                "\n",
                "You will write a series of functions to analyze the power grid components and determine the steps needed to stabilize the grid.  There will be a main function that will use other functions to perform specific tasks.\n",
                "\n",
                "For the main function you will receive an array of object that list the power grid components and their current state.  You will need to respond back with a new object that indicates what the next step will be.\n",
                "\n",
                "**Power Grid Rules:**\n",
                "1. You must turn grid systems on in the proper order based on position in the status array.  The systems are in the order you need to turn them on.\n",
                "1. Some systems are critical, and some are not.  **Ignore all non-critical systems until critical systems are online.**\n",
                "1. A system's `currentOutput` must match the `desiredOutput` before turning on the next system or the grid will be damaged.\n",
                "1. When all critical systems are turned on and within acceptable outputs, respond back with an object that says the next system target is `none`.\n",
                "1. Actions should be `power on`, `adjust`, or `none` if nothing else needs to be done.\n",
                "\n",
                "The output needs to be an object that indicates the next target grid system, an action, and optionally an action amount.\n",
                "\n",
                "**Example:**\n",
                "```\n",
                "{\n",
                "    'system': 'main generator',\n",
                "    'action': 'adjust',\n",
                "    'amount': -50\n",
                "}\n",
                "```"
            ]
        },
        {
            "cell_type": "code",
            "execution_count": null,
            "metadata": {},
            "outputs": [],
            "source": [
                "// Here is a list of the various power systems, and some essential data about them\n",
                "// you'll need to make decisions.  You can reference this inside the `powerNextStep`\n",
                "// function.\n",
                "const powerSystemData = {\n",
                "    \"backup_generators\": {\"isCritical\": true, \"desiredOutput\": 20000},\n",
                "    \"battery_banks\": {\"isCritical\": true, \"desiredOutput\": 1000},\n",
                "    \"emergency_lighting\": {\"isCritical\": true, \"desiredOutput\": 5},\n",
                "    \"security_systems\": {\"isCritical\": true, \"desiredOutput\": 10},\n",
                "    \"communications\": {\"isCritical\": false, \"desiredOutput\": 15},\n",
                "    \"air_filtration\": {\"isCritical\": false, \"desiredOutput\": 200},\n",
                "    \"power_control_unit\": {\"isCritical\": true, \"desiredOutput\": 500},\n",
                "    \"lab_equipment\": {\"isCritical\": false, \"desiredOutput\": 500},\n",
                "    \"data_storage\": {\"isCritical\": true, \"desiredOutput\": 400},\n",
                "    \"hvac\": {\"isCritical\": true, \"desiredOutput\": 1000},\n",
                "    \"office_lighting\": {\"isCritical\": false, \"desiredOutput\": 500},\n",
                "    \"general\": {\"isCritical\": false, \"desiredOutput\": 200}\n",
                "  };\n",
                "\n",
                "// This is the main function that will receive a current state array.\n",
                "// It will make a decision, and respond back with a new object.\n",
                "function powerNextStep(currentState) {\n",
                "    // You might find it helpful to use a \"helper\" function to do the decision\n",
                "    // for a single system.  You don't have to do this, but it can simplify\n",
                "    // the rest of your logic.  Don't worry about whether it's critical here.\n",
                "    function decideAction(system) {\n",
                "      // Given just this one system...\n",
                "\n",
                "      // If the system is 'off' respond back with \"on\" action\n",
                "\n",
                "      // If the system is on but has the wrong output respond back with an \"adjust\" action\n",
                "\n",
                "      // If the system is on and has the proper output respond back with null, which means ignore.\n",
                "      return null;\n",
                "    }\n",
                "\n",
                "    // First, handle critical systems.  Send ONLY them into the `decideAction` function.\n",
                "    // If it responds back with something other than null (!== null) then return\n",
                "    // that action back.  The function will end there, otherwise it continues on.\n",
                "\n",
                "    // Once all critical systems are handled, move to non-essential systems.  Do\n",
                "    // the same with them as with the critical systems.  If you get back an action,\n",
                "    // return it.\n",
                "\n",
                "    // Otherwise, all systems are on and have the proper output, so do nothing.\n",
                "    return {\"system\": \"none\", \"action\": \"none\", \"amount\": 0};\n",
                "}\n",
                "\n",
                "// FROM HERE DOWN ARE JUST TESTS TO CHECK YOUR WORK\n",
                "// Here are some tests to make sure things are working properly.\n",
                "function test(testName, currentState, expectedNextStep) {\n",
                "    const nextStep = powerNextStep(currentState);\n",
                "    if(JSON.stringify(nextStep) === JSON.stringify(expectedNextStep)) {\n",
                "        console.log(`${testName} passed.  Good job!`);\n",
                "    } else {\n",
                "        console.error(`${testName} failed.  Expected: ${JSON.stringify(expectedNextStep)} but got: ${JSON.stringify(nextStep)}`);\n",
                "    }\n",
                "}\n",
                "\n",
                "test(\n",
                "  'TEST 1 - Turn on backup generators to minimum output',\n",
                "  [\n",
                "    {\"name\": \"backup_generators\", \"status\": \"off\", \"currentOutput\": 0},\n",
                "    {\"name\": \"battery_banks\", \"status\": \"off\", \"currentOutput\": 0},\n",
                "    {\"name\": \"emergency_lighting\", \"status\": \"off\", \"currentOutput\": 0},\n",
                "    {\"name\": \"security_systems\", \"status\": \"off\", \"currentOutput\": 0},\n",
                "    {\"name\": \"communications\", \"status\": \"off\", \"currentOutput\": 0},\n",
                "    {\"name\": \"air_filtration\", \"status\": \"off\", \"currentOutput\": 0},\n",
                "    {\"name\": \"power_control_unit\", \"status\": \"off\", \"currentOutput\": 0},\n",
                "    {\"name\": \"lab_equipment\", \"status\": \"off\", \"currentOutput\": 0},\n",
                "    {\"name\": \"data_storage\", \"status\": \"off\", \"currentOutput\": 0},\n",
                "    {\"name\": \"hvac\", \"status\": \"off\", \"currentOutput\": 0},\n",
                "    {\"name\": \"office_lighting\", \"status\": \"off\", \"currentOutput\": 0},\n",
                "    {\"name\": \"general\", \"status\": \"off\", \"currentOutput\": 0}\n",
                "  ],\n",
                "  {\"system\": \"backup_generators\", \"action\": \"on\", \"amount\": 20000} // Here's what we want to get\n",
                ");\n",
                "\n",
                "test(\n",
                "  'TEST 2 - Backup generators output too high',\n",
                "  [\n",
                "    {\"name\": \"backup_generators\", \"status\": \"on\", \"currentOutput\": 20500},\n",
                "    {\"name\": \"battery_banks\", \"status\": \"off\", \"currentOutput\": 0},\n",
                "    {\"name\": \"emergency_lighting\", \"status\": \"off\", \"currentOutput\": 0},\n",
                "    {\"name\": \"security_systems\", \"status\": \"off\", \"currentOutput\": 0},\n",
                "    {\"name\": \"communications\", \"status\": \"off\", \"currentOutput\": 0},\n",
                "    {\"name\": \"air_filtration\", \"status\": \"off\", \"currentOutput\": 0},\n",
                "    {\"name\": \"power_control_unit\", \"status\": \"off\", \"currentOutput\": 0},\n",
                "    {\"name\": \"lab_equipment\", \"status\": \"off\", \"currentOutput\": 0},\n",
                "    {\"name\": \"data_storage\", \"status\": \"off\", \"currentOutput\": 0},\n",
                "    {\"name\": \"hvac\", \"status\": \"off\", \"currentOutput\": 0},\n",
                "    {\"name\": \"office_lighting\", \"status\": \"off\", \"currentOutput\": 0},\n",
                "    {\"name\": \"general\", \"status\": \"off\", \"currentOutput\": 0}\n",
                "  ],\n",
                "  {\"system\": \"backup_generators\", \"action\": \"adjust\", \"amount\": -500} // Needs to decrease output.\n",
                ");\n",
                "\n",
                "test(\n",
                "  'TEST 3 - Turn on next critical system',\n",
                "  [\n",
                "    {\"name\": \"backup_generators\", \"status\": \"on\", \"currentOutput\": 20000},\n",
                "    {\"name\": \"battery_banks\", \"status\": \"off\", \"currentOutput\": 0},\n",
                "    {\"name\": \"emergency_lighting\", \"status\": \"off\", \"currentOutput\": 0},\n",
                "    {\"name\": \"security_systems\", \"status\": \"off\", \"currentOutput\": 0},\n",
                "    {\"name\": \"communications\", \"status\": \"off\", \"currentOutput\": 0},\n",
                "    {\"name\": \"air_filtration\", \"status\": \"off\", \"currentOutput\": 0},\n",
                "    {\"name\": \"power_control_unit\", \"status\": \"off\", \"currentOutput\": 0},\n",
                "    {\"name\": \"lab_equipment\", \"status\": \"off\", \"currentOutput\": 0},\n",
                "    {\"name\": \"data_storage\", \"status\": \"off\", \"currentOutput\": 0},\n",
                "    {\"name\": \"hvac\", \"status\": \"off\", \"currentOutput\": 0},\n",
                "    {\"name\": \"office_lighting\", \"status\": \"off\", \"currentOutput\": 0},\n",
                "    {\"name\": \"general\", \"status\": \"off\", \"currentOutput\": 0}\n",
                "  ],\n",
                "  {\"system\": \"battery_banks\", \"action\": \"on\", \"amount\": 1000} // Here's what we want to get\n",
                ");\n",
                "\n",
                "test(\n",
                "  'TEST 4 - Battery Banks output is too low',\n",
                "  [\n",
                "    {\"name\": \"backup_generators\", \"status\": \"on\", \"currentOutput\": 20000},\n",
                "    {\"name\": \"battery_banks\", \"status\": \"on\", \"currentOutput\": 150},\n",
                "    {\"name\": \"emergency_lighting\", \"status\": \"off\", \"currentOutput\": 0},\n",
                "    {\"name\": \"security_systems\", \"status\": \"off\", \"currentOutput\": 0},\n",
                "    {\"name\": \"communications\", \"status\": \"off\", \"currentOutput\": 0},\n",
                "    {\"name\": \"air_filtration\", \"status\": \"off\", \"currentOutput\": 0},\n",
                "    {\"name\": \"power_control_unit\", \"status\": \"off\", \"currentOutput\": 0},\n",
                "    {\"name\": \"lab_equipment\", \"status\": \"off\", \"currentOutput\": 0},\n",
                "    {\"name\": \"data_storage\", \"status\": \"off\", \"currentOutput\": 0},\n",
                "    {\"name\": \"hvac\", \"status\": \"off\", \"currentOutput\": 0},\n",
                "    {\"name\": \"office_lighting\", \"status\": \"off\", \"currentOutput\": 0},\n",
                "    {\"name\": \"general\", \"status\": \"off\", \"currentOutput\": 0}\n",
                "  ],\n",
                "  {\"system\": \"battery_banks\", \"action\": \"adjust\", \"amount\": 850} // Here's what we want to get\n",
                ");\n",
                "\n",
                "test(\n",
                "  'TEST 4 - Skip over non-critical systems. Turn on next critical system.',\n",
                "  [\n",
                "    {\"name\": \"backup_generators\", \"status\": \"on\", \"currentOutput\": 20000},\n",
                "    {\"name\": \"battery_banks\", \"status\": \"on\", \"currentOutput\": 1000},\n",
                "    {\"name\": \"emergency_lighting\", \"status\": \"on\", \"currentOutput\": 5},\n",
                "    {\"name\": \"security_systems\", \"status\": \"on\", \"currentOutput\": 10},\n",
                "    {\"name\": \"communications\", \"status\": \"off\", \"currentOutput\": 0},\n",
                "    {\"name\": \"air_filtration\", \"status\": \"off\", \"currentOutput\": 0},\n",
                "    {\"name\": \"power_control_unit\", \"status\": \"off\", \"currentOutput\": 0},\n",
                "    {\"name\": \"lab_equipment\", \"status\": \"off\", \"currentOutput\": 0},\n",
                "    {\"name\": \"data_storage\", \"status\": \"off\", \"currentOutput\": 0},\n",
                "    {\"name\": \"hvac\", \"status\": \"off\", \"currentOutput\": 0},\n",
                "    {\"name\": \"office_lighting\", \"status\": \"off\", \"currentOutput\": 0},\n",
                "    {\"name\": \"general\", \"status\": \"off\", \"currentOutput\": 0}\n",
                "  ],\n",
                "  {\"system\": \"power_control_unit\", \"action\": \"on\", \"amount\": 500} // Here's what we want to get\n",
                ");\n",
                "\n",
                "test(\n",
                "  'TEST 5 - All critical systems are on and within limits.  Go to non critical systems.',\n",
                "  [\n",
                "    {\"name\": \"backup_generators\", \"status\": \"on\", \"currentOutput\": 20000},\n",
                "    {\"name\": \"battery_banks\", \"status\": \"on\", \"currentOutput\": 1000},\n",
                "    {\"name\": \"emergency_lighting\", \"status\": \"on\", \"currentOutput\": 5},\n",
                "    {\"name\": \"security_systems\", \"status\": \"on\", \"currentOutput\": 10},\n",
                "    {\"name\": \"communications\", \"status\": \"off\", \"currentOutput\": 0},\n",
                "    {\"name\": \"air_filtration\", \"status\": \"off\", \"currentOutput\": 0},\n",
                "    {\"name\": \"power_control_unit\", \"status\": \"on\", \"currentOutput\": 500},\n",
                "    {\"name\": \"lab_equipment\", \"status\": \"off\", \"currentOutput\": 0},\n",
                "    {\"name\": \"data_storage\", \"status\": \"on\", \"currentOutput\": 400},\n",
                "    {\"name\": \"hvac\", \"status\": \"on\", \"currentOutput\": 1000},\n",
                "    {\"name\": \"office_lighting\", \"status\": \"off\", \"currentOutput\": 0},\n",
                "    {\"name\": \"general\", \"status\": \"off\", \"currentOutput\": 0}\n",
                "  ],\n",
                "  {\"system\": \"communications\", \"action\": \"on\", \"amount\": 15} // All critical systems are properly managed.\n",
                ");\n",
                "\n",
                "test(\n",
                "  'Test 6 - All systems on and within desired outputs. The next system target should be \"none\".',\n",
                "  [\n",
                "  {\"name\": \"backup_generators\", \"status\": \"on\", \"currentOutput\": 20000},\n",
                "  {\"name\": \"battery_banks\", \"status\": \"on\", \"currentOutput\": 1000},\n",
                "  {\"name\": \"emergency_lighting\", \"status\": \"on\", \"currentOutput\": 5},\n",
                "  {\"name\": \"security_systems\", \"status\": \"on\", \"currentOutput\": 10},\n",
                "  {\"name\": \"communications\", \"status\": \"on\", \"currentOutput\": 15},\n",
                "  {\"name\": \"air_filtration\", \"status\": \"on\", \"currentOutput\": 200},\n",
                "  {\"name\": \"power_control_unit\", \"status\": \"on\", \"currentOutput\": 500},\n",
                "  {\"name\": \"lab_equipment\", \"status\": \"on\", \"currentOutput\": 500},\n",
                "  {\"name\": \"data_storage\", \"status\": \"on\", \"currentOutput\": 400},\n",
                "  {\"name\": \"hvac\", \"status\": \"on\", \"currentOutput\": 1000},\n",
                "  {\"name\": \"office_lighting\", \"status\": \"on\", \"currentOutput\": 500},\n",
                "  {\"name\": \"general\", \"status\": \"on\", \"currentOutput\": 200}\n",
                "],\n",
                "{\"system\": \"none\", \"action\": \"none\", \"amount\": 0} // All systems are properly managed.\n",
                ");\n",
                "\n"
            ]
        },
        {
            "cell_type": "markdown",
            "metadata": {},
            "source": [
                "# Take Home\n",
                "\n",
                "You can run this at home on any modern web browser without installing anything. Just open this link: https://bit.ly/jaxchp3."
            ]
        }
    ],
    "metadata": {
        "kernelspec": {
            "display_name": "JavaScript (Web Worker)",
            "language": "javascript",
            "name": "javascript"
        },
        "language_info": {
            "codemirror_mode": {
                "name": "javascript"
            },
            "file_extension": ".js",
            "mimetype": "text/javascript",
            "name": "javascript",
            "nbconvert_exporter": "javascript",
            "pygments_lexer": "javascript",
            "version": "es2017"
        }
    },
    "nbformat": 4,
    "nbformat_minor": 4
}
