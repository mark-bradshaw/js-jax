{
    "metadata": {
        "kernelspec": {
            "name": "javascript",
            "display_name": "JavaScript (Web Worker)",
            "language": "javascript"
        },
        "language_info": {
            "codemirror_mode": {
                "name": "javascript"
            },
            "file_extension": ".js",
            "mimetype": "text/javascript",
            "name": "javascript",
            "nbconvert_exporter": "javascript",
            "pygments_lexer": "javascript",
            "version": "es2017"
        }
    },
    "nbformat_minor": 4,
    "nbformat": 4,
    "cells": [
        {
            "cell_type": "markdown",
            "source": "# JavaScript Variables in Detail",
            "metadata": {}
        },
        {
            "cell_type": "markdown",
            "source": "\nWelcome to this lesson on JavaScript variables! We'll dive into the details of variables in JavaScript, providing examples and interactive exercises to help you understand the concepts better.\n    ",
            "metadata": {}
        },
        {
            "cell_type": "markdown",
            "source": "## What is a Variable?",
            "metadata": {}
        },
        {
            "cell_type": "markdown",
            "source": "\nA variable in programming is like a storage box where you can keep different types of items. In JavaScript, a variable can store data like numbers, text (strings), or more complex items. We use variables to keep track of information in our programs.\n    ",
            "metadata": {}
        },
        {
            "cell_type": "markdown",
            "source": "## Declaring Variables in JavaScript",
            "metadata": {}
        },
        {
            "cell_type": "markdown",
            "source": "\nTo create a variable in JavaScript, we use the keywords `var`, `let`, or `const`. Here's how it works:\n\n- `const`: Lets you declare variables whose values are never intended to change. The variable is read-only after its initial value is set.  This should be your default.\n- `let`: Allows you to declare variables that are limited to the scope of a block statement.\n- `var`: An older way to declare a variable.  Strongly discouraged in modern javascript.\n\n\n### Examples:\n\n1. Using `let`:\n```javascript\nlet myFavoriteColor = \"blue\";\n```\n\n2. Using `const`:\n```javascript\nconst pi = 3.14;\n```\n    ",
            "metadata": {
                "jp-MarkdownHeadingCollapsed": true
            }
        },
        {
            "cell_type": "markdown",
            "source": "## Types of Data in Variables",
            "metadata": {}
        },
        {
            "cell_type": "markdown",
            "source": "\nVariables can hold different types of data. The most common ones are:\n\n- **Numbers**: Both integers and decimals.\n- **Strings**: Text enclosed in quotes.\n- **Boolean**: `true` or `false` values.\n\n### Examples:    ",
            "metadata": {}
        },
        {
            "cell_type": "code",
            "source": "const age = 16; // Number\nconst name = \"Alexa\"; // String\nconst isStudent = true; // Boolean",
            "metadata": {
                "trusted": true
            },
            "outputs": [
                {
                    "execution_count": 4,
                    "output_type": "execute_result",
                    "data": {},
                    "metadata": {}
                }
            ],
            "execution_count": 4
        },
        {
            "cell_type": "markdown",
            "source": "## Operations with Variables",
            "metadata": {}
        },
        {
            "cell_type": "markdown",
            "source": "\nYou can do different operations with variables, like adding numbers or concatenating (joining) strings.\n\n### Examples:    ",
            "metadata": {
                "tags": []
            }
        },
        {
            "cell_type": "code",
            "source": "const sum = 10 + 5; // Adding numbers\nconst name = \"Sam\";\nconst greeting = \"Hello, \" + name; // Concatenating strings\nconsole.log(greeting);",
            "metadata": {
                "tags": [],
                "trusted": true
            },
            "outputs": [
                {
                    "name": "stdout",
                    "text": "Hello, Sam\n",
                    "output_type": "stream"
                },
                {
                    "execution_count": 3,
                    "output_type": "execute_result",
                    "data": {},
                    "metadata": {}
                }
            ],
            "execution_count": 3
        },
        {
            "cell_type": "markdown",
            "source": "## Changing Variable Values",
            "metadata": {}
        },
        {
            "cell_type": "markdown",
            "source": "\nThe value stored in a variable declared with `let` can be changed.  Use `let` if you have to change your variable's value, but try to use `const` as much as you can.\n\n### Example:    ",
            "metadata": {}
        },
        {
            "cell_type": "code",
            "source": "let age = 15;\nconsole.log('Age starts as', age);\nage = 16; // Now age is 16\nconsole.log('But now it is', age);",
            "metadata": {
                "trusted": true
            },
            "outputs": [
                {
                    "name": "stdout",
                    "text": "Age starts as 15\nBut now it is 16\n",
                    "output_type": "stream"
                },
                {
                    "execution_count": 5,
                    "output_type": "execute_result",
                    "data": {},
                    "metadata": {}
                }
            ],
            "execution_count": 5
        },
        {
            "cell_type": "markdown",
            "source": "## Interactive Exercises",
            "metadata": {}
        },
        {
            "cell_type": "markdown",
            "source": "\nTry modifying the values of variables and see what happens. Experiment with different data types and operations.\n    ",
            "metadata": {}
        },
        {
            "cell_type": "markdown",
            "source": "## Conclusion",
            "metadata": {}
        },
        {
            "cell_type": "markdown",
            "source": "\nThat's it for our detailed look at variables in JavaScript! Remember, practice is key. Experiment with what you've learned and try writing your own simple programs using variables.\n\n[Back to the story](_start.ipynb)\n    ",
            "metadata": {}
        },
        {
            "cell_type": "code",
            "source": "",
            "metadata": {
                "trusted": true
            },
            "outputs": [],
            "execution_count": null
        }
    ]
}