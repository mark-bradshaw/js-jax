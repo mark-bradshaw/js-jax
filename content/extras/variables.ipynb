{
    "cells": [
        {
            "cell_type": "markdown",
            "metadata": {},
            "source": [
                "# JavaScript Variables in Detail"
            ]
        },
        {
            "cell_type": "markdown",
            "metadata": {},
            "source": [
                "\n",
                "Welcome to this lesson on JavaScript variables! We'll dive into the details of variables in JavaScript, providing examples and interactive exercises to help you understand the concepts better.\n",
                "    "
            ]
        },
        {
            "cell_type": "markdown",
            "metadata": {},
            "source": [
                "## What is a Variable?"
            ]
        },
        {
            "cell_type": "markdown",
            "metadata": {},
            "source": [
                "\n",
                "A variable in programming is like a storage box where you can keep different types of items. In JavaScript, a variable can store data like numbers, text (strings), or more complex items. We use variables to keep track of information in our programs.\n",
                "    "
            ]
        },
        {
            "cell_type": "markdown",
            "metadata": {},
            "source": [
                "## Declaring Variables in JavaScript"
            ]
        },
        {
            "cell_type": "markdown",
            "metadata": {
                "jp-MarkdownHeadingCollapsed": true
            },
            "source": [
                "\n",
                "To create a variable in JavaScript, we use the keywords `var`, `let`, or `const`. Here's how it works:\n",
                "\n",
                "- `const`: Lets you declare variables whose values are never intended to change. The variable is read-only after its initial value is set.  This should be your default.\n",
                "- `let`: Allows you to declare variables that are limited to the scope of a block statement.\n",
                "- `var`: An older way to declare a variable.  Strongly discouraged in modern javascript.\n",
                "\n",
                "\n",
                "### Examples:\n",
                "\n",
                "1. Using `let`:\n",
                "```javascript\n",
                "let myFavoriteColor = \"blue\";\n",
                "```\n",
                "\n",
                "2. Using `const`:\n",
                "```javascript\n",
                "const pi = 3.14;\n",
                "```\n",
                "    "
            ]
        },
        {
            "cell_type": "markdown",
            "metadata": {},
            "source": [
                "## Types of Data in Variables"
            ]
        },
        {
            "cell_type": "markdown",
            "metadata": {},
            "source": [
                "\n",
                "Variables can hold different types of data. The most common ones are:\n",
                "\n",
                "- **Numbers**: Both integers and decimals.\n",
                "- **Strings**: Text enclosed in quotes.\n",
                "- **Boolean**: `true` or `false` values.\n",
                "\n",
                "### Examples:    "
            ]
        },
        {
            "cell_type": "code",
            "execution_count": 4,
            "metadata": {
                "trusted": true
            },
            "outputs": [
                {
                    "data": {},
                    "execution_count": 4,
                    "metadata": {},
                    "output_type": "execute_result"
                }
            ],
            "source": [
                "const age = 16; // Number\n",
                "const name = \"Alexa\"; // String\n",
                "const isStudent = true; // Boolean"
            ]
        },
        {
            "cell_type": "markdown",
            "metadata": {},
            "source": [
                "## Operations with Variables"
            ]
        },
        {
            "cell_type": "markdown",
            "metadata": {
                "tags": []
            },
            "source": [
                "\n",
                "You can do different operations with variables, like adding numbers or concatenating (joining) strings.\n",
                "\n",
                "### Examples:    "
            ]
        },
        {
            "cell_type": "code",
            "execution_count": 3,
            "metadata": {
                "tags": [],
                "trusted": true
            },
            "outputs": [
                {
                    "name": "stdout",
                    "output_type": "stream",
                    "text": [
                        "Hello, Sam\n"
                    ]
                },
                {
                    "data": {},
                    "execution_count": 3,
                    "metadata": {},
                    "output_type": "execute_result"
                }
            ],
            "source": [
                "const sum = 10 + 5; // Adding numbers\n",
                "const name = \"Sam\";\n",
                "const greeting = \"Hello, \" + name; // Concatenating strings\n",
                "console.log(greeting);"
            ]
        },
        {
            "cell_type": "markdown",
            "metadata": {},
            "source": [
                "## Changing Variable Values"
            ]
        },
        {
            "cell_type": "markdown",
            "metadata": {},
            "source": [
                "\n",
                "The value stored in a variable declared with `let` can be changed.  Use `let` if you have to change your variable's value, but try to use `const` as much as you can.\n",
                "\n",
                "### Example:    "
            ]
        },
        {
            "cell_type": "code",
            "execution_count": 5,
            "metadata": {
                "trusted": true
            },
            "outputs": [
                {
                    "name": "stdout",
                    "output_type": "stream",
                    "text": [
                        "Age starts as 15\n",
                        "But now it is 16\n"
                    ]
                },
                {
                    "data": {},
                    "execution_count": 5,
                    "metadata": {},
                    "output_type": "execute_result"
                }
            ],
            "source": [
                "let age = 15;\n",
                "console.log('Age starts as', age);\n",
                "age = 16; // Now age is 16\n",
                "console.log('But now it is', age);"
            ]
        },
        {
            "cell_type": "markdown",
            "metadata": {},
            "source": [
                "## Interactive Exercises"
            ]
        },
        {
            "cell_type": "markdown",
            "metadata": {},
            "source": [
                "\n",
                "Try modifying the values of variables and see what happens. Experiment with different data types and operations.\n",
                "    "
            ]
        },
        {
            "cell_type": "markdown",
            "metadata": {},
            "source": [
                "## Conclusion"
            ]
        },
        {
            "cell_type": "markdown",
            "metadata": {},
            "source": [
                "\n",
                "That's it for our detailed look at variables in JavaScript! Remember, practice is key. Experiment with what you've learned and try writing your own simple programs using variables.\n",
                "\n",
                "[Back to the story](../chapter-1.ipynb)\n",
                "    "
            ]
        }
    ],
    "metadata": {
        "kernelspec": {
            "display_name": "JavaScript (Web Worker)",
            "language": "javascript",
            "name": "javascript"
        },
        "language_info": {
            "codemirror_mode": {
                "name": "javascript"
            },
            "file_extension": ".js",
            "mimetype": "text/javascript",
            "name": "javascript",
            "nbconvert_exporter": "javascript",
            "pygments_lexer": "javascript",
            "version": "es2017"
        }
    },
    "nbformat": 4,
    "nbformat_minor": 4
}
