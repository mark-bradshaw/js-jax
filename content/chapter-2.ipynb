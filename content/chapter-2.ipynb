{
    "cells": [
        {
            "cell_type": "markdown",
            "metadata": {},
            "source": [
                "# Chapter 2: The Labyrinth Unlocked\n",
                "\n",
                "In the aftermath of their success with the surveillance systems, the main lab becomes a small island of dim, flickering light in an ocean of darkness.  However at least now Alexa and Sam can see what's going on around them, if they can only fix the lights.  They huddle close to the monitors' glow, casting long, flickering shadows against the walls. Outside, the storm's fury mounts, its howling winds and torrential downpour creating an unsettling soundtrack to their dire situation.\n",
                "\n",
                "Sam squints at the screens, now animated with feeds from various cameras. \"Looks like we've got eyes everywhere,\" he says, a note of unease threading through his voice. \"But it's not much use if we can't see anything.\"\n",
                "\n",
                "Alexa, her focus locked on a camera view of a corridor swallowed by shadows, murmurs, \"If only we could explore more of the lab, find a spot with better shelter, or more supplies.\" Her words hang heavy, underscoring the gravity of their predicament.\n",
                "\n",
                "A sudden, low thud from the lab's far end cuts through the silence, startling them. The building itself seems to shudder and groan under the storm's relentless siege, voicing its defiance against an unseen adversary. They share a glance, their expressions a complex tapestry of fear and resolve.\n",
                "\n",
                "At this moment, JAX's calm, reassuring voice pierces the tension. \"Excellent work restoring the cameras.  That will be essential to our efforts, but we have one other thing to do before we can work on restoring power.  For your safety and to secure essential resources, we must take control of the door systems. Not only are vital areas like power control currently inaccessible due to automatic lockdowns, but external doors may be dangerously unlocked. The control room is not too far away, and it holds the key to navigating the labs.\"\n",
                "\n",
                "Sam, running his hands through his hair, turns back to the screen, his apprehension palpable. \"The halls are really dark...\" he trails off, the very thought as menacing as the enveloping darkness.\n",
                "\n",
                "JAX promptly adds, \"I share your concerns. Yet, mastering the door controls is imperative. It allows us to seal off external threats; intruders or wild animals seeking refuge from the storm. Equally, we must ensure access to all internal areas to get you help and ensure the lab's integrity.\"\n",
                "\n",
                "Alexa bites her lip, pondering their grim options. The prospect of delving into the shadowed depths is terrifying, yet inaction poses its own peril. With steel in her voice, she declares, \"We can do it. Step by step, door by door.\"\n",
                "\n",
                "Emboldened by their resolve, they face the terminal anew, ready to embark on their daunting quest. As they prepare to navigate the labyrinthine darkness, they are unaware that with each door they unlock or seal, they are drawing closer to unveiling a larger, hidden truth that lurks within the storm's shadow."
            ]
        },
        {
            "cell_type": "markdown",
            "metadata": {
                "jp-MarkdownHeadingCollapsed": true
            },
            "source": [
                "\n",
                "# Let's Learn\n"
            ]
        },
        {
            "cell_type": "markdown",
            "metadata": {},
            "source": [
                "\n",
                "## Control Structures\n",
                "Welcome to Week 2! Last week, you learned about the basics of programming, including variables, data types, and functions. We learned that to talk to the computer we have to learn a special language, and that it has certain special words to use that the computer understands.  Those are words like `const`, `let`, and `function`.  This week, we'll talk about how to tell the computer to make decisions and do things over and over again.\n",
                "\n",
                "### Conditional Statements\n",
                "Remember that a statement is one line in a program, one step toward accomplishing a task.  Well, you can have the computer decide whether to follow some directions, depending on the value of a variable.  This is called a conditional statement.  Conditional statements allow your program to do different things depending on certain conditions.  \n",
                "\n",
                "Imagine you were giving someone directions to your house and you said, \"Follow the main road all the way to this intersection, but if there's a train in the way, turn off on this other road.\"  That's an example of how directions can change depending on what conditions you encounter.  Programs do this sort of thing a lot.\n",
                "\n",
                "Here are the main types of conditional expressions you can use:\n",
                "\n",
                "* `if`: Used to execute a set of statements only if a condition is true.  Let's say you were going to have the computer ask for someone's age, and then print out what age category that person was in depending on their answer.\n",
                "* `else`: If we had an `if` that checked for a condition, but it was false, then do this part instead.\n",
                "\n",
                "It's like simon says.  `If` I say \"Simon says\", then you do whatever I say next, `else` do whatever you were doing before."
            ]
        },
        {
            "cell_type": "code",
            "execution_count": null,
            "metadata": {
                "trusted": true
            },
            "outputs": [],
            "source": [
                "let age = 15; // Imagine we had asked the user for their age, and this is what they told us.\n",
                "\n",
                "// Now we tell the computer to do different things, depending on the value we have in the variable `age`.\n",
                "// Feel free to change the value of age to see the computer make different decisions.\n",
                "if (age < 13) {\n",
                "  console.log('pre-teen');\n",
                "} else if (age > 17) { // Lookie here.  We added a new word to our language, 'else'.\n",
                "  console.log('adult');\n",
                "} else {\n",
                "  console.log('teen');\n",
                "}"
            ]
        },
        {
            "cell_type": "markdown",
            "metadata": {},
            "source": [
                "* `switch`: Use this when your variable can have a LOT of different values.  You could use `if`, but it gets really long and hard to read.  Instead we use a `switch` to save some space.\n",
                "\n",
                "1. Start with the word `switch`, and then in parentheses put the variable you will be testing.  Everything else will go inside curly braces ({ })\n",
                "1. Each possible value you care about (doesn't have to be all possible values) will be listed on a separate line that starts with `case` and ends with a colon.\n",
                "1. You can choose to have multiple `case`s do the same thing.  Just stack them on top of each other.\n",
                "1. The computer needs to know when to stop working through `case`s, since they can be stacked.  To tell it we're done we use the special word `break`.  If you don't put `break`, the computer will keep going to the next line and won't stop.\n",
                "1. If you want to have a case that means \"any value that I didn't specifically list, you can use the word `default`.  It should always be last in the list."
            ]
        },
        {
            "cell_type": "code",
            "execution_count": null,
            "metadata": {
                "language": "javascript",
                "trusted": true
            },
            "outputs": [],
            "source": [
                "let dayOfWeek = \"Tuesday\";\n",
                "\n",
                "switch (dayOfWeek) {\n",
                "  case \"Monday\":\n",
                "  case \"Tuesday\":\n",
                "      console.log(\"It's the start of the week. Time to be productive!\");\n",
                "      break;\n",
                "  case \"Wednesday\":\n",
                "      console.log(\"It's Wednesday. Keep pushing through!\");\n",
                "      break;\n",
                "  case \"Thursday\":\n",
                "  case \"Friday\":\n",
                "      console.log(\"It's almost the weekend. Start wrapping things up!\");\n",
                "      break;\n",
                "  default:\n",
                "      console.log(\"Enjoy your day!\");\n",
                "}"
            ]
        },
        {
            "cell_type": "markdown",
            "metadata": {},
            "source": [
                "### Logical Operators\n",
                "If you are doing a conditional like an `if` that needs to check multiple things at the same time, you can combine them using what are called logical operators.  This is an idea borrowed from a branch of math called Boolean logic.  Basically it's a way to combine different truth statements together to make a bigger truth statement.  It sounds complicated, but it's actually really easy.\n",
                "\n",
                "You can use these logical operators to combine different truth statements together:\n",
                "\n",
                "* `&&` (AND): Returns true if both conditions are true.\n",
                "* `||` (OR): Returns true if either condition is true.\n",
                "* `!` (NOT): Reverses the result.  Turns true into false and false into true.\n",
                "\n",
                "OK, let's look at some examples to clear up how this works."
            ]
        },
        {
            "cell_type": "code",
            "execution_count": null,
            "metadata": {
                "language": "javascript",
                "trusted": true
            },
            "outputs": [],
            "source": [
                "// If the current user is Alexa and she is older than 18 print out \"Super old Alexa\"\n",
                "\n",
                "let age = 20;\n",
                "let name = \"Alexa\";\n",
                "\n",
                "if (age > 18 && name === \"Alexa\") {\n",
                "    console.log(\"Super old Alexa\");\n",
                "}"
            ]
        },
        {
            "cell_type": "code",
            "execution_count": null,
            "metadata": {
                "language": "javascript",
                "trusted": true
            },
            "outputs": [],
            "source": [
                "// If the current user is Sam OR the current user is less than 30 years old print out \"Sam or under 30\"\n",
                "\n",
                "let age = 20;\n",
                "let name = \"Alex\";\n",
                "\n",
                "if (age < 30 || name === \"Sam\") {\n",
                "    console.log(\"Sam or under 30\");\n",
                "}"
            ]
        },
        {
            "cell_type": "code",
            "execution_count": null,
            "metadata": {
                "language": "javascript",
                "trusted": true
            },
            "outputs": [],
            "source": [
                "// if the current user is not Sam print out \"Not Sam\"\n",
                "\n",
                "let name = \"Alexa\";\n",
                "\n",
                "if (name !== \"Sam\") {\n",
                "    console.log(\"Not Sam\");\n",
                "}"
            ]
        },
        {
            "cell_type": "markdown",
            "metadata": {},
            "source": [
                "### Loops\n",
                "Loops are used for performing repetitive tasks.  Often you need to have the computer do the same set of tasks hundreds or thousands of times.  Usually you don't know ahead of time exactly how many times to repeat.  You just want to keep repeating until some condition is met.  In that case, we use loops to repeat a set of code over and over again. Here are the main types of loops:\n",
                "\n",
                "* `for` Loop: Repeat code until a count is completed.  There's a bit of setup to use a `for`.  Inside the parentheses after the `for` we add three pieces of information.\n",
                "1. First is how we are going to set up the count.  Usually we add a variable, and set it to the starting number.\n",
                "1. Second is the condition that must be true to stop looping.   This is how it knows when to stop.\n",
                "1. Last is what should change after every loop.  Often this is taking the counting variable and increasing or decreasing by 1, but it can be something different."
            ]
        },
        {
            "cell_type": "code",
            "execution_count": null,
            "metadata": {
                "language": "javascript",
                "trusted": true
            },
            "outputs": [],
            "source": [
                "const howManyTimesShouldIDoThis = 5;\n",
                "\n",
                "//   setup;      condition to meet;               change\n",
                "for (let i = 1;  i <= howManyTimesShouldIDoThis;  i = i + 1) {\n",
                "   console.log(`i = ${i}`);\n",
                "}"
            ]
        },
        {
            "cell_type": "markdown",
            "metadata": {},
            "source": [
                "* `while` Loop: Used when you want to execute a block of code as long as a specified condition is true.  It's just another way of writing a `for` loop."
            ]
        },
        {
            "cell_type": "code",
            "execution_count": null,
            "metadata": {
                "language": "javascript",
                "trusted": true
            },
            "outputs": [],
            "source": [
                "const howManyTimesShouldIDoThis = 5;\n",
                "let i = 1; // Same as the `for` setup\n",
                "\n",
                "while (i <= howManyTimesShouldIDoThis) { // here's the same conditional as the `for`\n",
                "    console.log(i);\n",
                "    i += 1; // and here's the part that changes\n",
                "}"
            ]
        },
        {
            "cell_type": "markdown",
            "metadata": {},
            "source": [
                "You can also stick the `while` part at the end of the loop, so you are guaranteed to get at least one time through the code before it checks to see if the condition is true.  In that case start with the word `do`."
            ]
        },
        {
            "cell_type": "code",
            "execution_count": null,
            "metadata": {
                "language": "javascript",
                "trusted": true
            },
            "outputs": [],
            "source": [
                "const howManyTimesShouldIDoThis = 5;\n",
                "let i = 1;\n",
                "\n",
                "do {\n",
                "    console.log(i);\n",
                "    i += 1;\n",
                "} while (i <= howManyTimesShouldIDoThis);"
            ]
        },
        {
            "cell_type": "markdown",
            "metadata": {},
            "source": [
                "### Further Reading\n",
                "Practice is key to understanding these concepts. For more detailed explanations and examples, check out these links:\n",
                "\n",
                "* [JavaScript Conditional Statements](https://developer.mozilla.org/en-US/docs/Web/JavaScript/Guide/Control_flow_and_error_handling#conditional_statements)\n",
                "* [JavaScript Loops and Iteration](https://developer.mozilla.org/en-US/docs/Web/JavaScript/Guide/Loops_and_iteration)\n",
                "* [JavaScript Error Handling](https://developer.mozilla.org/en-US/docs/Web/JavaScript/Guide/Control_flow_and_error_handling#exception_handling_statements)"
            ]
        },
        {
            "cell_type": "markdown",
            "metadata": {},
            "source": [
                "# Challenge"
            ]
        },
        {
            "cell_type": "markdown",
            "metadata": {},
            "source": [
                "## Challenge: Unlocking Progress\n",
                "\n",
                "<img src=\"https://mark-bradshaw.github.io/js-jax/files/extras/images/sam-alexa-dark-hallway.png\" align=\"right\" style=\"margin-left: 1rem; width: 50%;\" />In the depths of the night, with the storm still raging outside, Alexa and Sam are about to embark on a new challenge within the shadowy confines of the HelixTech Research Facility. The realization dawns on them that they must leave the central lab—where JAX's guiding presence has been their beacon in the dark—to reach the door control room. This room, a critical point in the facility, holds the power to unlock the maze of corridors sealed behind electronic doors that block their way forward.\n",
                "\n",
                "JAX's voice, steady yet urgent, cuts through the darkness as they prepare to leave the safety of the lab. \"The door system is secured with a shift cipher. Each door's lock is coded with letters shifted by a set number. To move freely and safely, you’ll need to decipher this in the control room.\"\n",
                "\n",
                "Sam, his eyes reflecting the screen's glow, responds with a mix of awe and apprehension. \"A shift cipher, like in secret codes?\"\n",
                "\n",
                "\"Yes,\" Alexa chimes in, determination in her voice as she gathers their makeshift tools. \"But this is no game. It's our path to safety, and we have to crack it in the control room.\"\n",
                "\n",
                "Guided by JAX, they navigate through the dimly lit hallways. They have to create a function to reverse the cipher and unlock the doors.  From the control room they can install their function and give JAX access to secure the facility.  This mission is their only chance to safely explore the lab for supplies and shelter, ensuring no unwanted presence can breach their sanctuary... or prevent their escape.\n",
                "\n",
                "As they move through the dark, the storm's fury outside mirrors their intense focus. Every step towards the control room is a step away from the familiar.\n",
                "\n",
                "### Instructions for Students:\n",
                "\n",
                "Your task is to write a function to decrypt the door lock codes. The doors use a shift cipher for security, meaning each letter in the code is shifted by a set number in the alphabet. You need to reverse this process to find the correct code to unlock the doors.\n",
                "\n",
                "1. Understand the Shift Cipher: Each letter in the code is shifted a certain number of places down the alphabet. For example, with a shift of 1, 'a' becomes 'b', 'b' becomes 'c', and so on. You need to reverse this process.\n",
                "1. Complete the decryptCode Function: Inside this function, you'll write code to reverse the shift cipher. Loop through each character of the code string, shift it back by the shift value, and append it to the decrypted string.\n",
                "1. Handle Alphabet Wrapping: Make sure your function correctly handles the end of the alphabet. For example, if an encoded letter is 'a' and the shift is 1, the decrypted letter should go back to the end of the alphabet to 'z'.\n",
                "1. Test Your Function: Use the example usage provided to test your function. You can also create your own encrypted codes and shift values to test different scenarios.\n",
                "1. Debug and Iterate: If your function doesn't work as expected, try to debug by checking each part of your code. Use console.log() to print out values at different stages of your function to see where it might be going wrong."
            ]
        },
        {
            "cell_type": "code",
            "execution_count": null,
            "metadata": {
                "trusted": true
            },
            "outputs": [],
            "source": [
                "function decryptCode(code, shift) {\n",
                "    const alphabet = 'abcdefghijklmnopqrstuvwxyz';\n",
                "    let result = \"\";\n",
                "\n",
                "    // You're code goes here.  Run this cell to see if it works!\n",
                "\n",
                "    return result;\n",
                "}\n",
                "\n",
                "// Example usage:\n",
                "let encryptedCode = 'uli'; // This is the encrypted code\n",
                "let shift = 11;             // Number of positions each letter in the code has been shifted\n",
                "let decryptedCode = decryptCode(encryptedCode, shift);\n",
                "console.log(\"Decrypted Code:\", decryptedCode); // This should equal 'jax'\n",
                "\n",
                "// These should decrypt into readable words\n",
                "console.log(decryptCode('fdxwlrq', 3));\n",
                "console.log(decryptCode('pxgthtpgrw', 15));\n",
                "console.log(decryptCode('ilzhaltk', 23));"
            ]
        },
        {
            "cell_type": "markdown",
            "metadata": {},
            "source": [
                "# Take Home\n",
                "\n",
                "You can run this at home on any modern web browser without installing anything. Just open this link: https://bit.ly/jaxchp2."
            ]
        }
    ],
    "metadata": {
        "kernelspec": {
            "display_name": "JavaScript (Web Worker)",
            "language": "javascript",
            "name": "javascript"
        },
        "language_info": {
            "codemirror_mode": {
                "name": "javascript"
            },
            "file_extension": ".js",
            "mimetype": "text/javascript",
            "name": "javascript",
            "nbconvert_exporter": "javascript",
            "pygments_lexer": "javascript",
            "version": "es2017"
        }
    },
    "nbformat": 4,
    "nbformat_minor": 4
}
