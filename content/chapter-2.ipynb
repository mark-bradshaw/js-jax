{
    "cells": [
        {
            "cell_type": "markdown",
            "metadata": {},
            "source": [
                "# Chapter 2: The Labyrinth Unlocked\n",
                "\n",
                "In the aftermath of their success with the surveillance systems, the main lab becomes a small island of dim, flickering light in an ocean of darkness. Alexa and Sam huddle close to the glow of the monitors, casting long shadows on the walls. The storm outside intensifies, the howling winds and torrential rain creating an eerie soundtrack to their predicament.\n",
                "\n",
                "Sam squints at the screens, now alive with the feeds from various cameras. \"Looks like we've got eyes everywhere,\" he says, but his voice carries an edge of unease. \"Everywhere except where we need to be.\" Alexa nods, her gaze fixed on a camera view showing a corridor plunged into darkness. \"If only we could explore more of the lab safely, find someplace with better shelter, or more supplies,\" she murmurs.\n",
                "\n",
                "Just then, a low thud echoes from the far end of the lab, startling them. The building creaks and groans under the storm's relentless assault, as if protesting against the unseen intruder. They exchange a glance, a mix of fear and determination in their eyes.\n",
                "\n",
                "It is at this moment that Jax's voice, calm and reassuring, breaks through the tension. \"You've done well to restore the surveillance. However, to ensure your safety and access to essential resources, we need to gain control over the door systems.\"\n",
                "\n",
                "Sam runs his hands through his hair, looking back at the screen. \"But that means going into those dark corridors...\" his voice trails off.\n",
                "\n",
                "Jax responds promptly, \"I understand your apprehension. But with the door control fixed, you can navigate the lab securely, keeping yourselves safe from any external threats the storm might bring. It's crucial for your survival and the integrity of the lab.\"\n",
                "\n",
                "Alexa bites her lip, considering their options. The idea of venturing into the shadowed halls is daunting, but staying put isn't a solution either. \"Let's do it,\" she finally says, a resolute note in her voice. \"We'll take it one step at a time, one door at a time.\"\n",
                "\n",
                "Their decision made, they turn back to the terminal, ready to unlock the next piece of the puzzle."
            ]
        },
        {
            "cell_type": "markdown",
            "metadata": {
                "jp-MarkdownHeadingCollapsed": true
            },
            "source": [
                "\n",
                "# Let's Learn\n"
            ]
        },
        {
            "cell_type": "markdown",
            "metadata": {},
            "source": [
                "\n",
                "## Control Structures\n",
                "Welcome to Week 2! Last week, you learned about the basics of JavaScript, including variables, data types, and operators. This week, we'll delve into control structures which are crucial for making decisions and controlling the flow of your code. Let's get started!\n",
                "\n",
                "### Conditional Statements\n",
                "Conditional statements allow your program to make decisions based on certain conditions. Here are the main types:\n",
                "\n",
                "* `if` Statement: Used to execute a block of code if a specified condition is true."
            ]
        },
        {
            "cell_type": "code",
            "execution_count": null,
            "metadata": {
                "trusted": true
            },
            "outputs": [],
            "source": [
                "let age = 15;\n",
                "\n",
                "if (age < 13) {\n",
                "  console.log('pre-teen');\n",
                "} else if (age > 17) {\n",
                "  console.log('adult');\n",
                "} else {\n",
                "  console.log('teen');\n",
                "}"
            ]
        },
        {
            "cell_type": "markdown",
            "metadata": {},
            "source": [
                "* `switch` Statement: Used to perform different actions based on different conditions."
            ]
        },
        {
            "cell_type": "code",
            "execution_count": null,
            "metadata": {
                "language": "javascript",
                "trusted": true
            },
            "outputs": [],
            "source": [
                "let trafficLight = \"green\";\n",
                "\n",
                "switch (trafficLight) {\n",
                "  case \"red\":\n",
                "  case \"yellow\":\n",
                "    console.log(\"Slow Down or Stop\");\n",
                "    break;\n",
                "  case \"green\":\n",
                "    console.log(\"Go\");\n",
                "    break;\n",
                "  default:\n",
                "    console.log(\"Invalid color\");\n",
                "}"
            ]
        },
        {
            "cell_type": "markdown",
            "metadata": {},
            "source": [
                "### Logical Operators\n",
                "Logical operators are used to determine the logic between variables or values:\n",
                "\n",
                "* `&&` (Logical AND): Returns true if both operands are true.\n",
                "* `||` (Logical OR): Returns true if either operand is true.\n",
                "* `!` (Logical NOT): Reverses the result, returns false if the result is true."
            ]
        },
        {
            "cell_type": "code",
            "execution_count": null,
            "metadata": {
                "language": "javascript",
                "trusted": true
            },
            "outputs": [],
            "source": [
                "let age = 20;\n",
                "let name = \"Alex\";\n",
                "\n",
                "console.log(age > 18 && name === \"Alex\");"
            ]
        },
        {
            "cell_type": "code",
            "execution_count": null,
            "metadata": {
                "language": "javascript",
                "trusted": true
            },
            "outputs": [],
            "source": [
                "let age = 20;\n",
                "let name = \"Alex\";\n",
                "\n",
                "console.log(age < 30 || name === \"Sam\");"
            ]
        },
        {
            "cell_type": "code",
            "execution_count": null,
            "metadata": {
                "language": "javascript",
                "trusted": true
            },
            "outputs": [],
            "source": [
                "let age = 20;\n",
                "\n",
                "console.log(!(age > 25));"
            ]
        },
        {
            "cell_type": "markdown",
            "metadata": {},
            "source": [
                "### Loops\n",
                "Loops are used for performing repetitive tasks. Here are the main types of loops:\n",
                "\n",
                "* `for` Loop: Used when you know how many times you want to execute a statement."
            ]
        },
        {
            "cell_type": "code",
            "execution_count": null,
            "metadata": {
                "language": "javascript",
                "trusted": true
            },
            "outputs": [],
            "source": [
                "// for (initialization; condition; change) {\n",
                "   for (let i = 1;      i < 6;     i += 1) {\n",
                "      console.log(`i = ${i}`);\n",
                "   }"
            ]
        },
        {
            "cell_type": "markdown",
            "metadata": {},
            "source": [
                "* `while` Loop: Used when you want to execute a block of code as long as a specified condition is true."
            ]
        },
        {
            "cell_type": "code",
            "execution_count": null,
            "metadata": {
                "language": "javascript",
                "trusted": true
            },
            "outputs": [],
            "source": [
                "let i = 1;\n",
                "\n",
                "while (i < 6) {\n",
                "    console.log(i);\n",
                "    i += 1;\n",
                "}"
            ]
        },
        {
            "cell_type": "code",
            "execution_count": null,
            "metadata": {
                "language": "javascript",
                "trusted": true
            },
            "outputs": [],
            "source": [
                "let i = 1;\n",
                "\n",
                "do {\n",
                "    console.log(i);\n",
                "    i += 1;\n",
                "} while (i < 6);"
            ]
        },
        {
            "cell_type": "markdown",
            "metadata": {},
            "source": [
                "### Conclusion and Further Reading\n",
                "Remember, practice is key to mastering these concepts. For more detailed explanations and examples, check out these links:\n",
                "\n",
                "* [JavaScript Conditional Statements](https://developer.mozilla.org/en-US/docs/Web/JavaScript/Guide/Control_flow_and_error_handling#conditional_statements)\n",
                "* [JavaScript Loops and Iteration](https://developer.mozilla.org/en-US/docs/Web/JavaScript/Guide/Loops_and_iteration)\n",
                "* [JavaScript Error Handling](https://developer.mozilla.org/en-US/docs/Web/JavaScript/Guide/Control_flow_and_error_handling#exception_handling_statements)"
            ]
        },
        {
            "cell_type": "markdown",
            "metadata": {},
            "source": [
                "# Challenge"
            ]
        },
        {
            "cell_type": "markdown",
            "metadata": {},
            "source": [
                "## Challenge: Unlocking Progress\n",
                "\n",
                "In the depths of the night, with the storm still raging outside, Alexa and Sam found themselves facing a new hurdle in the shadowy confines of the HelixTech Research Facility. The lab's labyrinthine corridors, locked behind electronic doors, seemed to mock their predicament.\n",
                "\n",
                "JAX's voice, steady yet urgent, cut through the darkness. \"The door system is secured with a shift cipher. Each door's lock is coded with letters shifted by a set number. You'll need to decipher this to move freely and safely.\"\n",
                "\n",
                "Sam, gazing at the glowing screen, responded with a mix of awe and apprehension. \"A shift cipher, like in secret codes?\"\n",
                "\n",
                "\"Yes,\" Alexa chimed in, her fingers hovering over the keyboard, \"but this is no game. It's our way to safety, and we need to crack it now.\"\n",
                "\n",
                "With JAX's guidance, they set to work. The task was daunting: creating a JavaScript function to reverse the cipher and unlock the doors. But it was their only chance to explore the lab for supplies and shelter, to ensure no unwanted presence could enter... or exit.\n",
                "\n",
                "As they typed, the storm outside mirrored their intense focus. This night transformed them from mere students to survivors, coders against the odds. Each line of code they wrote was a step towards unraveling the secrets hidden within the facility's walls, each unlocked door a gateway to the unknown.\n",
                "\n",
                "### Instructions for Students:\n",
                "\n",
                "Your task is to write a JavaScript function to decrypt the door lock codes. The doors use a shift cipher for security, meaning each letter in the code is shifted by a set number in the alphabet. You need to reverse this process to find the correct code to unlock the doors.\n",
                "\n",
                "1. Understand the Shift Cipher: Each letter in the code is shifted a certain number of places down the alphabet. For example, with a shift of 1, 'A' becomes 'B', 'B' becomes 'C', and so on. You need to reverse this process.\n",
                "1. Complete the decryptCode Function: Inside this function, you'll write code to reverse the shift cipher. Loop through each character of the code string, shift it back by the shift value, and append it to the decrypted string.\n",
                "1. Handle Alphabet Wrapping: Make sure your function correctly handles the end of the alphabet. For example, if a letter is 'A' and the shift is 1, the decrypted letter should be 'Z'.\n",
                "1. Test Your Function: Use the example usage provided to test your function. You can also create your own encrypted codes and shift values to test different scenarios.\n",
                "1. Debug and Iterate: If your function doesn't work as expected, try to debug by checking each part of your code. Use console.log() to print out values at different stages of your function to see where it might be going wrong."
            ]
        },
        {
            "cell_type": "code",
            "execution_count": 11,
            "metadata": {
                "trusted": true
            },
            "outputs": [
                {
                    "name": "stdout",
                    "output_type": "stream",
                    "text": [
                        "oljkwwhfk\n",
                        "d1 zjydck\n",
                        "d2 wdgepk\n",
                        "d3 icqhdua\n",
                        "Decrypted Code: \n",
                        "\n"
                    ]
                },
                {
                    "data": {},
                    "execution_count": 10,
                    "metadata": {},
                    "output_type": "execute_result"
                }
            ],
            "source": [
                "function shiftCipher(str, shift) {\n",
                "    let result = \"\";\n",
                "\n",
                "    // Iterate over each character in the string\n",
                "    for (let i = 0; i < str.length; i++) {\n",
                "        let char = str[i];\n",
                "\n",
                "        // Check if the character is an uppercase letter\n",
                "        if (char >= 'A' && char <= 'Z') {\n",
                "            result += String.fromCharCode((char.charCodeAt(0) - 'A'.charCodeAt(0) + shift) % 26 + 'A'.charCodeAt(0));\n",
                "        }\n",
                "        // Check if the character is a lowercase letter\n",
                "        else if (char >= 'a' && char <= 'z') {\n",
                "            result += String.fromCharCode((char.charCodeAt(0) - 'a'.charCodeAt(0) + shift) % 26 + 'a'.charCodeAt(0));\n",
                "        }\n",
                "        // If it's not a letter, keep it as is\n",
                "        else {\n",
                "            result += char;\n",
                "        }\n",
                "    }\n",
                "\n",
                "    return result;\n",
                "}\n",
                "\n",
                "console.log(shiftCipher(\"lighttech\", 3));\n",
                "\n",
                "function decryptShiftCipher(str, shift) {\n",
                "    let result = \"\";\n",
                "\n",
                "    // Iterate over each character in the string\n",
                "    for (let i = 0; i < str.length; i++) {\n",
                "        let char = str[i];\n",
                "\n",
                "        // Check if the character is an uppercase letter\n",
                "        if (char >= 'A' && char <= 'Z') {\n",
                "            // Adjust shift for the uppercase range and wrap around the alphabet\n",
                "            result += String.fromCharCode((char.charCodeAt(0) - 'A'.charCodeAt(0) - shift + 26) % 26 + 'A'.charCodeAt(0));\n",
                "        }\n",
                "        // Check if the character is a lowercase letter\n",
                "        else if (char >= 'a' && char <= 'z') {\n",
                "            // Adjust shift for the lowercase range and wrap around the alphabet\n",
                "            result += String.fromCharCode((char.charCodeAt(0) - 'a'.charCodeAt(0) - shift + 26) % 26 + 'a'.charCodeAt(0));\n",
                "        }\n",
                "        // If it's not a letter, keep it as is\n",
                "        else {\n",
                "            result += char;\n",
                "        }\n",
                "    }\n",
                "\n",
                "    return result;\n",
                "}\n",
                "console.log('d1', decryptShiftCipher('blafem', 2));\n",
                "console.log('d2', decryptShiftCipher('biljup', 5));\n",
                "console.log('d3', decryptShiftCipher('smarnek', 10));\n",
                "\n",
                "function decryptCode(code, shift) {\n",
                "    let decrypted = \"\";\n",
                "\n",
                "    // Your code here to decrypt the 'code' using the 'shift' value\n",
                "\n",
                "    return decrypted;\n",
                "}\n",
                "\n",
                "// Example usage:\n",
                "let encryptedCode = 'MDA'; // This is the encrypted code\n",
                "let shift = 3;             // Number of positions each letter in the code has been shifted\n",
                "let decryptedCode = decryptCode(encryptedCode, shift);\n",
                "console.log(\"Decrypted Code:\", decryptedCode); // This should equal 'JAX'\n",
                "\n",
                "// These should decrypt into readable words\n",
                "console.log(decryptCode('oljkwwhfk', 3));"
            ]
        },
        {
            "cell_type": "code",
            "execution_count": null,
            "metadata": {
                "trusted": true
            },
            "outputs": [],
            "source": []
        }
    ],
    "metadata": {
        "kernelspec": {
            "display_name": "JavaScript (Web Worker)",
            "language": "javascript",
            "name": "javascript"
        },
        "language_info": {
            "codemirror_mode": {
                "name": "javascript"
            },
            "file_extension": ".js",
            "mimetype": "text/javascript",
            "name": "javascript",
            "nbconvert_exporter": "javascript",
            "pygments_lexer": "javascript",
            "version": "es2017"
        }
    },
    "nbformat": 4,
    "nbformat_minor": 4
}
