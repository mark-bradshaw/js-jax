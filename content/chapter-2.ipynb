{
    "cells": [
        {
            "cell_type": "markdown",
            "metadata": {},
            "source": [
                "# Chapter 2: The Labyrinth Unlocked\n",
                "\n",
                "In the aftermath of their success with the surveillance systems, the main lab becomes a small island of dim, flickering light in an ocean of darkness.  However at least now Alexa and Sam can see what's going on around them, if they can only fix the lights.  They huddle close to the monitors' glow, casting long, flickering shadows against the walls. Outside, the storm's fury mounts, its howling winds and torrential downpour creating an unsettling soundtrack to their dire situation.\n",
                "\n",
                "Sam squints at the screens, now animated with feeds from various cameras. \"Looks like we've got eyes everywhere,\" he says, a note of unease threading through his voice. \"But it's not much use if we can't see anything.\"\n",
                "\n",
                "Alexa, her focus locked on a camera view of a corridor swallowed by shadows, murmurs, \"If only we could explore more of the lab, find a spot with better shelter, or more supplies.\" Her words hang heavy, underscoring the gravity of their predicament.\n",
                "\n",
                "A sudden, low thud from the lab's far end cuts through the silence, startling them. The building itself seems to shudder and groan under the storm's relentless siege, voicing its defiance against an unseen adversary. They share a glance, their expressions a complex tapestry of fear and resolve.\n",
                "\n",
                "At this moment, JAX's calm, reassuring voice pierces the tension. \"Excellent work restoring the cameras.  That will be essential to our efforts, but we have one other thing to do before we can work on restoring power.  For your safety and to secure essential resources, we must take control of the door systems. Not only are vital areas like power control currently inaccessible due to automatic lockdowns, but external doors may be dangerously unlocked. The control room is not too far away, and it holds the key to navigating the labs.\"\n",
                "\n",
                "Sam, running his hands through his hair, turns back to the screen, his apprehension palpable. \"The halls are really dark...\" he trails off, the very thought as menacing as the enveloping darkness.\n",
                "\n",
                "JAX promptly adds, \"I share your concerns. Yet, mastering the door controls is imperative. It allows us to seal off external threats; intruders or wild animals seeking refuge from the storm. Equally, we must ensure access to all internal areas to get you help and ensure the lab's integrity.\"\n",
                "\n",
                "Alexa bites her lip, pondering their grim options. The prospect of delving into the shadowed depths is terrifying, yet inaction poses its own peril. With steel in her voice, she declares, \"We can do it. Step by step, door by door.\"\n",
                "\n",
                "Emboldened by their resolve, they face the terminal anew, ready to embark on their daunting quest. As they prepare to navigate the labyrinthine darkness, they are unaware that with each door they unlock or seal, they are drawing closer to unveiling a larger, hidden truth that lurks within the storm's shadow."
            ]
        },
        {
            "cell_type": "markdown",
            "metadata": {
                "jp-MarkdownHeadingCollapsed": true
            },
            "source": [
                "\n",
                "# Let's Learn\n"
            ]
        },
        {
            "cell_type": "markdown",
            "metadata": {},
            "source": [
                "\n",
                "## Control Structures\n",
                "Welcome to Week 2! Last week, you learned about the basics of JavaScript, including variables, data types, and operators. This week, we'll delve into control structures which are crucial for making decisions and controlling the flow of your code. Let's get started!\n",
                "\n",
                "### Conditional Statements\n",
                "Conditional statements allow your program to make decisions based on certain conditions. Here are the main types:\n",
                "\n",
                "* `if` Statement: Used to execute a block of code if a specified condition is true."
            ]
        },
        {
            "cell_type": "code",
            "execution_count": null,
            "metadata": {
                "trusted": true
            },
            "outputs": [],
            "source": [
                "let age = 15;\n",
                "\n",
                "if (age < 13) {\n",
                "  console.log('pre-teen');\n",
                "} else if (age > 17) {\n",
                "  console.log('adult');\n",
                "} else {\n",
                "  console.log('teen');\n",
                "}"
            ]
        },
        {
            "cell_type": "markdown",
            "metadata": {},
            "source": [
                "* `switch` Statement: Used to perform different actions based on different conditions."
            ]
        },
        {
            "cell_type": "code",
            "execution_count": null,
            "metadata": {
                "language": "javascript",
                "trusted": true
            },
            "outputs": [],
            "source": [
                "let trafficLight = \"green\";\n",
                "\n",
                "switch (trafficLight) {\n",
                "  case \"red\":\n",
                "  case \"yellow\":\n",
                "    console.log(\"Slow Down or Stop\");\n",
                "    break;\n",
                "  case \"green\":\n",
                "    console.log(\"Go\");\n",
                "    break;\n",
                "  default:\n",
                "    console.log(\"Invalid color\");\n",
                "}"
            ]
        },
        {
            "cell_type": "markdown",
            "metadata": {},
            "source": [
                "### Logical Operators\n",
                "Logical operators are used to determine the logic between variables or values:\n",
                "\n",
                "* `&&` (Logical AND): Returns true if both operands are true.\n",
                "* `||` (Logical OR): Returns true if either operand is true.\n",
                "* `!` (Logical NOT): Reverses the result, returns false if the result is true."
            ]
        },
        {
            "cell_type": "code",
            "execution_count": null,
            "metadata": {
                "language": "javascript",
                "trusted": true
            },
            "outputs": [],
            "source": [
                "let age = 20;\n",
                "let name = \"Alex\";\n",
                "\n",
                "console.log(age > 18 && name === \"Alex\");"
            ]
        },
        {
            "cell_type": "code",
            "execution_count": null,
            "metadata": {
                "language": "javascript",
                "trusted": true
            },
            "outputs": [],
            "source": [
                "let age = 20;\n",
                "let name = \"Alex\";\n",
                "\n",
                "console.log(age < 30 || name === \"Sam\");"
            ]
        },
        {
            "cell_type": "code",
            "execution_count": null,
            "metadata": {
                "language": "javascript",
                "trusted": true
            },
            "outputs": [],
            "source": [
                "let age = 20;\n",
                "\n",
                "console.log(!(age > 25));"
            ]
        },
        {
            "cell_type": "markdown",
            "metadata": {},
            "source": [
                "### Loops\n",
                "Loops are used for performing repetitive tasks. Here are the main types of loops:\n",
                "\n",
                "* `for` Loop: Used when you know how many times you want to execute a statement."
            ]
        },
        {
            "cell_type": "code",
            "execution_count": null,
            "metadata": {
                "language": "javascript",
                "trusted": true
            },
            "outputs": [],
            "source": [
                "// for (initialization; condition; change) {\n",
                "   for (let i = 1;      i < 6;     i += 1) {\n",
                "      console.log(`i = ${i}`);\n",
                "   }"
            ]
        },
        {
            "cell_type": "markdown",
            "metadata": {},
            "source": [
                "* `while` Loop: Used when you want to execute a block of code as long as a specified condition is true."
            ]
        },
        {
            "cell_type": "code",
            "execution_count": null,
            "metadata": {
                "language": "javascript",
                "trusted": true
            },
            "outputs": [],
            "source": [
                "let i = 1;\n",
                "\n",
                "while (i < 6) {\n",
                "    console.log(i);\n",
                "    i += 1;\n",
                "}"
            ]
        },
        {
            "cell_type": "code",
            "execution_count": null,
            "metadata": {
                "language": "javascript",
                "trusted": true
            },
            "outputs": [],
            "source": [
                "let i = 1;\n",
                "\n",
                "do {\n",
                "    console.log(i);\n",
                "    i += 1;\n",
                "} while (i < 6);"
            ]
        },
        {
            "cell_type": "markdown",
            "metadata": {},
            "source": [
                "### Conclusion and Further Reading\n",
                "Remember, practice is key to mastering these concepts. For more detailed explanations and examples, check out these links:\n",
                "\n",
                "* [JavaScript Conditional Statements](https://developer.mozilla.org/en-US/docs/Web/JavaScript/Guide/Control_flow_and_error_handling#conditional_statements)\n",
                "* [JavaScript Loops and Iteration](https://developer.mozilla.org/en-US/docs/Web/JavaScript/Guide/Loops_and_iteration)\n",
                "* [JavaScript Error Handling](https://developer.mozilla.org/en-US/docs/Web/JavaScript/Guide/Control_flow_and_error_handling#exception_handling_statements)"
            ]
        },
        {
            "cell_type": "markdown",
            "metadata": {},
            "source": [
                "# Challenge"
            ]
        },
        {
            "cell_type": "markdown",
            "metadata": {},
            "source": [
                "## Challenge: Unlocking Progress\n",
                "\n",
                "In the depths of the night, with the storm still raging outside, Alexa and Sam found themselves facing a new hurdle in the shadowy confines of the HelixTech Research Facility. The lab's labyrinthine corridors, locked behind electronic doors, seemed to mock their predicament.\n",
                "\n",
                "JAX's voice, steady yet urgent, cut through the darkness. \"The door system is secured with a shift cipher. Each door's lock is coded with letters shifted by a set number. You'll need to decipher this to move freely and safely.\"\n",
                "\n",
                "Sam, gazing at the glowing screen, responded with a mix of awe and apprehension. \"A shift cipher, like in secret codes?\"\n",
                "\n",
                "\"Yes,\" Alexa chimed in, her fingers hovering over the keyboard, \"but this is no game. It's our way to safety, and we need to crack it now.\"\n",
                "\n",
                "With JAX's guidance, they set to work. The task was daunting: creating a function to reverse the cipher and unlock the doors. But it was their only chance to explore the lab for supplies and shelter, to ensure no unwanted presence could enter... or exit.\n",
                "\n",
                "As they typed, the storm outside mirrored their intense focus. This night transformed them from mere students to survivors, coders against the odds. Each line of code they wrote was a step towards unraveling the secrets hidden within the facility's walls, each unlocked door a gateway closer to answers and escape.\n",
                "\n",
                "### Instructions for Students:\n",
                "\n",
                "Your task is to write a function to decrypt the door lock codes. The doors use a shift cipher for security, meaning each letter in the code is shifted by a set number in the alphabet. You need to reverse this process to find the correct code to unlock the doors.\n",
                "\n",
                "1. Understand the Shift Cipher: Each letter in the code is shifted a certain number of places down the alphabet. For example, with a shift of 1, 'a' becomes 'b', 'b' becomes 'c', and so on. You need to reverse this process.\n",
                "1. Complete the decryptCode Function: Inside this function, you'll write code to reverse the shift cipher. Loop through each character of the code string, shift it back by the shift value, and append it to the decrypted string.\n",
                "1. Handle Alphabet Wrapping: Make sure your function correctly handles the end of the alphabet. For example, if an encoded letter is 'a' and the shift is 1, the decrypted letter should go back to the end of the alphabet to 'z'.\n",
                "1. Test Your Function: Use the example usage provided to test your function. You can also create your own encrypted codes and shift values to test different scenarios.\n",
                "1. Debug and Iterate: If your function doesn't work as expected, try to debug by checking each part of your code. Use console.log() to print out values at different stages of your function to see where it might be going wrong."
            ]
        },
        {
            "cell_type": "code",
            "execution_count": null,
            "metadata": {
                "trusted": true
            },
            "outputs": [],
            "source": [
                "function decryptCode(code, shift) {\n",
                "    const alphabet = 'abcdefghijklmnopqrstuvwxyz';\n",
                "    let result = \"\";\n",
                "\n",
                "    // You're code goes here.  Run this cell to see if it works!\n",
                "\n",
                "    return result;\n",
                "}\n",
                "\n",
                "// Example usage:\n",
                "let encryptedCode = 'uli'; // This is the encrypted code\n",
                "let shift = 11;             // Number of positions each letter in the code has been shifted\n",
                "let decryptedCode = decryptCode(encryptedCode, shift);\n",
                "console.log(\"Decrypted Code:\", decryptedCode); // This should equal 'jax'\n",
                "\n",
                "// These should decrypt into readable words\n",
                "console.log(decryptCode('fdxwlrq', 3));\n",
                "console.log(decryptCode('pxgthtpgrw', 15));\n",
                "console.log(decryptCode('ilzhaltk', 23));"
            ]
        },
        {
            "cell_type": "markdown",
            "metadata": {},
            "source": [
                "# Take Home\n",
                "\n",
                "You can run this at home on any modern web browser without installing anything. Just open this link: https://bit.ly/jaxchp2."
            ]
        }
    ],
    "metadata": {
        "kernelspec": {
            "display_name": "JavaScript (Web Worker)",
            "language": "javascript",
            "name": "javascript"
        },
        "language_info": {
            "codemirror_mode": {
                "name": "javascript"
            },
            "file_extension": ".js",
            "mimetype": "text/javascript",
            "name": "javascript",
            "nbconvert_exporter": "javascript",
            "pygments_lexer": "javascript",
            "version": "es2017"
        }
    },
    "nbformat": 4,
    "nbformat_minor": 4
}
