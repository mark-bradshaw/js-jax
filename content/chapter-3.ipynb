{
    "cells": [
        {
            "cell_type": "markdown",
            "metadata": {},
            "source": [
                "# Chapter 3: Into the Darkness: Rekindling Hope\n",
                "\n",
                "After taking control of the doors, Alexa and Sam paused, the silence around them suddenly shattered by the sound of door locks clanking shut throughout the facility. The noise was startling, a stark reminder of the desolate atmosphere enveloping them. Despite their success, the hallways remained dark and ominous, with only occasional emergency lights piercing the shadows. The storm outside seemed to mock their progress, its howls and rumbles a constant backdrop to their uneasy journey.\n",
                "\n",
                "\"We need to get back to the main lab,\" Alexa whispered, her voice barely audible over the storm's fury. The idea of traversing the dark, sprawling corridors without the guidance of JAX's voice felt daunting. Yet, the thought of reaching the familiar glow of the lab offered a sliver of comfort.\n",
                "\n",
                "Navigating the labyrinthine facility felt different now. With each door that obediently swung open at their approach, a small sense of victory pierced the overwhelming sense of isolation. The darkness seemed less consuming, not because it was any less dense, but because their resolve lightened the burden of fear.\n",
                "\n",
                "As they finally stepped into the main lab, the faint light from the terminal cast a welcoming glow. Relief washed over them, not just from the light, but from the return of JAX's voice, which had become an anchor in the storm.\n",
                "\n",
                "\"Good job, and welcome back.  We've made a lot of progress, but now we need to focus on the power systems,\" JAX announced, its voice cutting through the relative silence of the lab. The urgency in its tone was clear, underscoring the critical nature of their next task. \"The backup generators and batteries are offline. Without them, we're left in the cold and dark. And if we can bring them back online, we might be able to power up essential equipment for our next steps.\"\n",
                "\n",
                "\"Before we look at the power systems, we'll need to learn a bit more,\" JAX continued.\n",
                "\n",
                "Listening to JAX, Alexa and Sam realized the gravity of their situation afresh. The storm raged on, indifferent to human concerns, a relentless reminder of their vulnerability. Yet, with each task they accomplished, their determination grew stronger, fueled by the knowledge that they were not just fighting for survival but forging a path forward, step by painstaking step."
            ]
        },
        {
            "cell_type": "markdown",
            "metadata": {},
            "source": [
                "# Let's Learn"
            ]
        },
        {
            "cell_type": "markdown",
            "metadata": {},
            "source": [
                "## Introduction to Arrays\n",
                "\n",
                "Arrays are used to store multiple values in a single variable. They are perfect for keeping an ordered collection of items.\n",
                "\n",
                "An array is created by using square brackets `[]`, and you can access array items by their position number.\n",
                "\n",
                "### Array Index\n",
                "\n",
                "Here's the most confusing thing about arrays.  The numbering of the items in an array *doesn't start with 1*. It starts with 0.  This is something you just have to memorize.  The first item in an array is at position 0, the second item is at position 1, etc."
            ]
        },
        {
            "cell_type": "code",
            "execution_count": null,
            "metadata": {
                "language": "javascript",
                "trusted": true
            },
            "outputs": [],
            "source": [
                "const sensorReadings = [23, 35, 42, 20, 15];\n",
                "console.log(sensorReadings[0]); // Outputs the first sensor reading: 23"
            ]
        },
        {
            "cell_type": "markdown",
            "metadata": {},
            "source": [
                "### Array Methods\n",
                "\n",
                "Arrays come with a variety of actions you can do with them that are built in.  These are called `properties` and `methods`.  \n",
                "\n",
                "A `property` is something that is true about an array.  One example would be `length`.  Every array has a length property that tells you how many items are in the array."
            ]
        },
        {
            "cell_type": "code",
            "execution_count": null,
            "metadata": {},
            "outputs": [],
            "source": [
                "const sensorReadings = [23, 35, 42, 20, 15];\n",
                "console.log(sensorReadings.length);"
            ]
        },
        {
            "cell_type": "markdown",
            "metadata": {},
            "source": [
                "A `method` is something you can do with the array.  Some common array methods are:\n",
                "- `push()` - Adds one or more elements to the end of an array and returns the new length\n",
                "- `pop()` - Removes the last element from an array and returns that element\n",
                "- `shift()` - Removes the first element from an array and returns that element\n",
                "- `unshift()` - Adds one or more elements to the beginning of\n",
                "- `slice()` - Extracts a section of the array and returns a new array\n",
                "\n",
                "For instance, you can  Here's how you use push to add an item to the end of an array and pop to remove the last item:"
            ]
        },
        {
            "cell_type": "code",
            "execution_count": null,
            "metadata": {},
            "outputs": [],
            "source": [
                "const sensorReadings = [23, 35, 42, 20, 15];\n",
                "\n",
                "sensorReadings.push(30); // Adds a new reading at the end of the array\n",
                "console.log(sensorReadings);\n",
                "sensorReadings.pop(); // Removes the last reading from the array\n",
                "console.log(sensorReadings);\n",
                "\n",
                "console.log(sensorReadings.slice(1, 3)); // Does not change the array."
            ]
        },
        {
            "cell_type": "markdown",
            "metadata": {},
            "source": [
                "### Strings as Arrays\n",
                "\n",
                "Strings, as we've talked about before, are a collection of characters.  In JavaScript, strings can also be treated like arrays - meaning we can access individual characters by their index number."
            ]
        },
        {
            "cell_type": "code",
            "execution_count": null,
            "metadata": {},
            "outputs": [],
            "source": [
                "const name = \"Alexa\";\n",
                "console.log(name[1], name[2]); // Remember the number starts at 0, not 1."
            ]
        },
        {
            "cell_type": "markdown",
            "metadata": {},
            "source": [
                "## Introduction to Objects\n",
                "\n",
                "Objects are collections of data that go together.  It can be helpful to keep all the values that relate to one thing together in one package.  We call that package an `object`, and the pieces of data in it are called `properties`.  Each `property` has a `name` and a `value`.\n",
                "\n",
                "\n",
                "An object literal is defined using curly braces `{}` and a list of properties that go in it."
            ]
        },
        {
            "cell_type": "code",
            "execution_count": null,
            "metadata": {},
            "outputs": [],
            "source": [
                "const climateControl = {\n",
                "    'temperature': 22,\n",
                "    'humidity': 50,\n",
                "    'status': 'stable'\n",
                "};\n",
                "console.log(climateControl.temperature); // Outputs the temperature: 22"
            ]
        },
        {
            "cell_type": "markdown",
            "metadata": {},
            "source": [
                "You can stick any type of data that javascript understands into an object.  You can add items whenever you want, and remove things if needed.  "
            ]
        },
        {
            "cell_type": "code",
            "execution_count": null,
            "metadata": {},
            "outputs": [],
            "source": [
                "const climateControl = {\n",
                "    'temperature': 22,\n",
                "    'humidity': 50,\n",
                "    'status': 'stable'\n",
                "};\n",
                "\n",
                "// Even though the `climateControl` variable is declared with `const`, you can still\n",
                "// change the stuff inside it.\n",
                "climateControl.pressure = '1 atm'; // Adds a new property: pressure\n",
                "climateControl['status'] = 'adjusting'; // Changes the value of the status property\n",
                "console.log(JSON.stringify(climateControl)); // Using JSON.stringify to format the object for printing"
            ]
        },
        {
            "cell_type": "markdown",
            "metadata": {},
            "source": [
                "### Array of Objects\n",
                "\n",
                "Frequently, you'll deal with an array of objects, which allows you to store complex data structures.  This is a mix of the `array` and `object` ideas into a single thing."
            ]
        },
        {
            "cell_type": "code",
            "execution_count": null,
            "metadata": {},
            "outputs": [],
            "source": [
                "// each item in this array is an object.\n",
                "const allSystems = [\n",
                "    { 'name': 'communication', 'status': 'active', 'critical': true },\n",
                "    { 'name': 'security', 'status': 'inactive', 'critical': true },\n",
                "    // ... other systems\n",
                "];\n",
                "\n",
                "console.log(JSON.stringify(allSystems[1])); // get the *second* object in the array.\n",
                "console.log(allSystems[1]['status']); // print out the 'status' of the second object."
            ]
        },
        {
            "cell_type": "markdown",
            "metadata": {},
            "source": [
                "### Loops with Arrays and Objects\n",
                "\n",
                "Combining loops with arrays and objects allows you to perform operations on collections of data."
            ]
        },
        {
            "cell_type": "code",
            "execution_count": null,
            "metadata": {},
            "outputs": [],
            "source": [
                "const allSystems = [\n",
                "    { 'name': 'communication', 'status': 'inactive', 'critical': true },\n",
                "    { 'name': 'security', 'status': 'active', 'critical': true },\n",
                "    { 'name': 'power', 'status': 'inactive', 'critical': true },\n",
                "    { 'name': 'air conditioning', 'status': 'inactive', 'critical': false }\n",
                "];\n",
                "\n",
                "for (let i = 0; i < allSystems.length; i++) {\n",
                "    const system = allSystems[i];\n",
                "\n",
                "    if (system.critical && system.status === 'inactive') {\n",
                "        console.log(`${allSystems[i].name} system is critical and needs to be activated.`);\n",
                "    }\n",
                "}"
            ]
        },
        {
            "cell_type": "markdown",
            "metadata": {},
            "source": [
                "# Challenge"
            ]
        },
        {
            "cell_type": "markdown",
            "metadata": {},
            "source": [
                "## Challenge: Step by Step into the Light\n",
                "\n",
                "In the flickering shadows of the HelixTech Research Facility, with the storm still raging outside, Alexa and Sam faced their next critical challenge: to bring the lab's power grid fully online. JAX, the guiding AI voice, explained the situation. \"The lab's power systems are in disarray, and we're operating in the dark. We need to activate the backup generators, monitor the battery banks, and ensure all systems are running within their power limits to avoid overloads or shutdowns.\"\n",
                "\n",
                "Their task was to use their coding skills to assess the status of various components in the power grid. Each component's status included whether it was on or off, its startup order, current power consumption, and power limits. \"By analyzing this data,\" JAX instructed, \"you'll determine the next steps to stabilize the power grid. It could mean turning a system on, adjusting power levels, or maintaining the current state if everything is operating as it should.\"\n",
                "\n",
                "\"I'm prevented from writing this code for you, so I leave it in your hands to complete the task.\"\n",
                "\n",
                "Armed with their new knowledge, Alexa and Sam got to work. The lab's survival depended on their ability to think logically, applying what they had learned about variables, conditionals, loops, and objects. Their code would need to sift through the grid's components, making decisions to ensure a steady supply of power to the lab. This was no small feat, given the complexity of the task and their relative newness to coding. But the knowledge they had acquired gave them hope.\n",
                "\n",
                "As they typed away, the sounds of the storm seemed to fade into the background, replaced by the focus and determination to succeed. They were not just fighting to save the lab and themselves from the darkness; they were battling to prove their newfound skills could make a real-world difference. With each line of code, they edged closer to lighting up the lab and, with it, their path forward through the storm.\n",
                "\n",
                "### Instructions for Students\n",
                "\n",
                "You will write a series of functions to analyze the power grid components and determine the steps needed to stabilize the grid.  There will be a main function that will use other functions to perform specific tasks.\n",
                "\n",
                "For the main function you will receive an array of object that list the power grid components and their current state.  You will need to respond back with a new object that indicates what the next step will be.\n",
                "\n",
                "**Power Grid Rules:**\n",
                "1. You must turn grid systems on in the proper order based on position in the status array.  The systems are in the order you need to turn them on.\n",
                "1. Some systems are critical, and some are not.  **Ignore all non-critical systems until critical systems are online.**\n",
                "1. A system's `currentOutput` must match the `desiredOutput` before turning on the next system or the grid will be damaged.\n",
                "1. When all critical systems are turned on and within acceptable outputs, respond back with an object that says the next system target is `none`.\n",
                "1. Actions should be `power on`, `adjust`, or `none` if nothing else needs to be done.\n",
                "\n",
                "The output needs to be an object that indicates the next target grid system, an action, and optionally an action amount.\n",
                "\n",
                "**Example:**\n",
                "```\n",
                "{\n",
                "    'system': 'main generator',\n",
                "    'action': 'adjust',\n",
                "    'amount': -50\n",
                "}\n",
                "```"
            ]
        },
        {
            "cell_type": "code",
            "execution_count": null,
            "metadata": {},
            "outputs": [],
            "source": [
                "// Here is a list of the various power systems, and some essential data about them\n",
                "// you'll need to make decisions.  You can reference this inside the `powerNextStep`\n",
                "// function.\n",
                "const powerSystemData = {\n",
                "    \"backup_generators\": {\"isCritical\": true, \"desiredOutput\": 20000},\n",
                "    \"battery_banks\": {\"isCritical\": true, \"desiredOutput\": 1000},\n",
                "    \"emergency_lighting\": {\"isCritical\": true, \"desiredOutput\": 5},\n",
                "    \"security_systems\": {\"isCritical\": true, \"desiredOutput\": 10},\n",
                "    \"communications\": {\"isCritical\": false, \"desiredOutput\": 15},\n",
                "    \"air_filtration\": {\"isCritical\": false, \"desiredOutput\": 200},\n",
                "    \"power_control_unit\": {\"isCritical\": true, \"desiredOutput\": 500},\n",
                "    \"lab_equipment\": {\"isCritical\": false, \"desiredOutput\": 500},\n",
                "    \"data_storage\": {\"isCritical\": true, \"desiredOutput\": 400},\n",
                "    \"hvac\": {\"isCritical\": true, \"desiredOutput\": 1000},\n",
                "    \"office_lighting\": {\"isCritical\": false, \"desiredOutput\": 500},\n",
                "    \"general\": {\"isCritical\": false, \"desiredOutput\": 200}\n",
                "  };\n",
                "\n",
                "// This is the main function that will receive a current state array.\n",
                "// It will make a decision, and respond back with a new object.\n",
                "function powerNextStep(currentState) {\n",
                "    // You might find it helpful to use a \"helper\" function to do the decision\n",
                "    // for a single system.  You don't have to do this, but it can simplify\n",
                "    // the rest of your logic.  Don't worry about whether it's critical here.\n",
                "    function decideAction(system) {\n",
                "      // Given just this one system...\n",
                "\n",
                "      // If the system is 'off' respond back with \"on\" action\n",
                "\n",
                "      // If the system is on but has the wrong output respond back with an \"adjust\" action\n",
                "\n",
                "      // If the system is on and has the proper output respond back with null, which means ignore.\n",
                "      return null;\n",
                "    }\n",
                "\n",
                "    // First, handle critical systems.  Send ONLY them into the `decideAction` function.\n",
                "    // If it responds back with something other than null (!== null) then return\n",
                "    // that action back.  The function will end there, otherwise it continues on.\n",
                "\n",
                "    // Once all critical systems are handled, move to non-essential systems.  Do\n",
                "    // the same with them as with the critical systems.  If you get back an action,\n",
                "    // return it.\n",
                "\n",
                "    // Otherwise, all systems are on and have the proper output, so do nothing.\n",
                "    return {\"system\": \"none\", \"action\": \"none\", \"amount\": 0};\n",
                "}\n",
                "\n",
                "// FROM HERE DOWN ARE JUST TESTS TO CHECK YOUR WORK\n",
                "// Here are some tests to make sure things are working properly.\n",
                "function test(testName, currentState, expectedNextStep) {\n",
                "    const nextStep = powerNextStep(currentState);\n",
                "    if(JSON.stringify(nextStep) === JSON.stringify(expectedNextStep)) {\n",
                "        console.log(`${testName} passed.  Good job!`);\n",
                "    } else {\n",
                "        console.error(`${testName} failed.  Expected: ${JSON.stringify(expectedNextStep)} but got: ${JSON.stringify(nextStep)}`);\n",
                "    }\n",
                "}\n",
                "\n",
                "test(\n",
                "  'TEST 1 - Turn on backup generators to minimum output',\n",
                "  [\n",
                "    {\"name\": \"backup_generators\", \"status\": \"off\", \"currentOutput\": 0},\n",
                "    {\"name\": \"battery_banks\", \"status\": \"off\", \"currentOutput\": 0},\n",
                "    {\"name\": \"emergency_lighting\", \"status\": \"off\", \"currentOutput\": 0},\n",
                "    {\"name\": \"security_systems\", \"status\": \"off\", \"currentOutput\": 0},\n",
                "    {\"name\": \"communications\", \"status\": \"off\", \"currentOutput\": 0},\n",
                "    {\"name\": \"air_filtration\", \"status\": \"off\", \"currentOutput\": 0},\n",
                "    {\"name\": \"power_control_unit\", \"status\": \"off\", \"currentOutput\": 0},\n",
                "    {\"name\": \"lab_equipment\", \"status\": \"off\", \"currentOutput\": 0},\n",
                "    {\"name\": \"data_storage\", \"status\": \"off\", \"currentOutput\": 0},\n",
                "    {\"name\": \"hvac\", \"status\": \"off\", \"currentOutput\": 0},\n",
                "    {\"name\": \"office_lighting\", \"status\": \"off\", \"currentOutput\": 0},\n",
                "    {\"name\": \"general\", \"status\": \"off\", \"currentOutput\": 0}\n",
                "  ],\n",
                "  {\"system\": \"backup_generators\", \"action\": \"on\", \"amount\": 20000} // Here's what we want to get\n",
                ");\n",
                "\n",
                "test(\n",
                "  'TEST 2 - Backup generators output too high',\n",
                "  [\n",
                "    {\"name\": \"backup_generators\", \"status\": \"on\", \"currentOutput\": 20500},\n",
                "    {\"name\": \"battery_banks\", \"status\": \"off\", \"currentOutput\": 0},\n",
                "    {\"name\": \"emergency_lighting\", \"status\": \"off\", \"currentOutput\": 0},\n",
                "    {\"name\": \"security_systems\", \"status\": \"off\", \"currentOutput\": 0},\n",
                "    {\"name\": \"communications\", \"status\": \"off\", \"currentOutput\": 0},\n",
                "    {\"name\": \"air_filtration\", \"status\": \"off\", \"currentOutput\": 0},\n",
                "    {\"name\": \"power_control_unit\", \"status\": \"off\", \"currentOutput\": 0},\n",
                "    {\"name\": \"lab_equipment\", \"status\": \"off\", \"currentOutput\": 0},\n",
                "    {\"name\": \"data_storage\", \"status\": \"off\", \"currentOutput\": 0},\n",
                "    {\"name\": \"hvac\", \"status\": \"off\", \"currentOutput\": 0},\n",
                "    {\"name\": \"office_lighting\", \"status\": \"off\", \"currentOutput\": 0},\n",
                "    {\"name\": \"general\", \"status\": \"off\", \"currentOutput\": 0}\n",
                "  ],\n",
                "  {\"system\": \"backup_generators\", \"action\": \"adjust\", \"amount\": -500} // Needs to decrease output.\n",
                ");\n",
                "\n",
                "test(\n",
                "  'TEST 3 - Turn on next critical system',\n",
                "  [\n",
                "    {\"name\": \"backup_generators\", \"status\": \"on\", \"currentOutput\": 20000},\n",
                "    {\"name\": \"battery_banks\", \"status\": \"off\", \"currentOutput\": 0},\n",
                "    {\"name\": \"emergency_lighting\", \"status\": \"off\", \"currentOutput\": 0},\n",
                "    {\"name\": \"security_systems\", \"status\": \"off\", \"currentOutput\": 0},\n",
                "    {\"name\": \"communications\", \"status\": \"off\", \"currentOutput\": 0},\n",
                "    {\"name\": \"air_filtration\", \"status\": \"off\", \"currentOutput\": 0},\n",
                "    {\"name\": \"power_control_unit\", \"status\": \"off\", \"currentOutput\": 0},\n",
                "    {\"name\": \"lab_equipment\", \"status\": \"off\", \"currentOutput\": 0},\n",
                "    {\"name\": \"data_storage\", \"status\": \"off\", \"currentOutput\": 0},\n",
                "    {\"name\": \"hvac\", \"status\": \"off\", \"currentOutput\": 0},\n",
                "    {\"name\": \"office_lighting\", \"status\": \"off\", \"currentOutput\": 0},\n",
                "    {\"name\": \"general\", \"status\": \"off\", \"currentOutput\": 0}\n",
                "  ],\n",
                "  {\"system\": \"battery_banks\", \"action\": \"on\", \"amount\": 1000} // Here's what we want to get\n",
                ");\n",
                "\n",
                "test(\n",
                "  'TEST 4 - Battery Banks output is too low',\n",
                "  [\n",
                "    {\"name\": \"backup_generators\", \"status\": \"on\", \"currentOutput\": 20000},\n",
                "    {\"name\": \"battery_banks\", \"status\": \"on\", \"currentOutput\": 150},\n",
                "    {\"name\": \"emergency_lighting\", \"status\": \"off\", \"currentOutput\": 0},\n",
                "    {\"name\": \"security_systems\", \"status\": \"off\", \"currentOutput\": 0},\n",
                "    {\"name\": \"communications\", \"status\": \"off\", \"currentOutput\": 0},\n",
                "    {\"name\": \"air_filtration\", \"status\": \"off\", \"currentOutput\": 0},\n",
                "    {\"name\": \"power_control_unit\", \"status\": \"off\", \"currentOutput\": 0},\n",
                "    {\"name\": \"lab_equipment\", \"status\": \"off\", \"currentOutput\": 0},\n",
                "    {\"name\": \"data_storage\", \"status\": \"off\", \"currentOutput\": 0},\n",
                "    {\"name\": \"hvac\", \"status\": \"off\", \"currentOutput\": 0},\n",
                "    {\"name\": \"office_lighting\", \"status\": \"off\", \"currentOutput\": 0},\n",
                "    {\"name\": \"general\", \"status\": \"off\", \"currentOutput\": 0}\n",
                "  ],\n",
                "  {\"system\": \"battery_banks\", \"action\": \"adjust\", \"amount\": 850} // Here's what we want to get\n",
                ");\n",
                "\n",
                "test(\n",
                "  'TEST 4 - Skip over non-critical systems. Turn on next critical system.',\n",
                "  [\n",
                "    {\"name\": \"backup_generators\", \"status\": \"on\", \"currentOutput\": 20000},\n",
                "    {\"name\": \"battery_banks\", \"status\": \"on\", \"currentOutput\": 1000},\n",
                "    {\"name\": \"emergency_lighting\", \"status\": \"on\", \"currentOutput\": 5},\n",
                "    {\"name\": \"security_systems\", \"status\": \"on\", \"currentOutput\": 10},\n",
                "    {\"name\": \"communications\", \"status\": \"off\", \"currentOutput\": 0},\n",
                "    {\"name\": \"air_filtration\", \"status\": \"off\", \"currentOutput\": 0},\n",
                "    {\"name\": \"power_control_unit\", \"status\": \"off\", \"currentOutput\": 0},\n",
                "    {\"name\": \"lab_equipment\", \"status\": \"off\", \"currentOutput\": 0},\n",
                "    {\"name\": \"data_storage\", \"status\": \"off\", \"currentOutput\": 0},\n",
                "    {\"name\": \"hvac\", \"status\": \"off\", \"currentOutput\": 0},\n",
                "    {\"name\": \"office_lighting\", \"status\": \"off\", \"currentOutput\": 0},\n",
                "    {\"name\": \"general\", \"status\": \"off\", \"currentOutput\": 0}\n",
                "  ],\n",
                "  {\"system\": \"power_control_unit\", \"action\": \"on\", \"amount\": 500} // Here's what we want to get\n",
                ");\n",
                "\n",
                "test(\n",
                "  'TEST 5 - All critical systems are on and within limits.  Go to non critical systems.',\n",
                "  [\n",
                "    {\"name\": \"backup_generators\", \"status\": \"on\", \"currentOutput\": 20000},\n",
                "    {\"name\": \"battery_banks\", \"status\": \"on\", \"currentOutput\": 1000},\n",
                "    {\"name\": \"emergency_lighting\", \"status\": \"on\", \"currentOutput\": 5},\n",
                "    {\"name\": \"security_systems\", \"status\": \"on\", \"currentOutput\": 10},\n",
                "    {\"name\": \"communications\", \"status\": \"off\", \"currentOutput\": 0},\n",
                "    {\"name\": \"air_filtration\", \"status\": \"off\", \"currentOutput\": 0},\n",
                "    {\"name\": \"power_control_unit\", \"status\": \"on\", \"currentOutput\": 500},\n",
                "    {\"name\": \"lab_equipment\", \"status\": \"off\", \"currentOutput\": 0},\n",
                "    {\"name\": \"data_storage\", \"status\": \"on\", \"currentOutput\": 400},\n",
                "    {\"name\": \"hvac\", \"status\": \"on\", \"currentOutput\": 1000},\n",
                "    {\"name\": \"office_lighting\", \"status\": \"off\", \"currentOutput\": 0},\n",
                "    {\"name\": \"general\", \"status\": \"off\", \"currentOutput\": 0}\n",
                "  ],\n",
                "  {\"system\": \"communications\", \"action\": \"on\", \"amount\": 15} // All critical systems are properly managed.\n",
                ");\n",
                "\n",
                "test(\n",
                "  'Test 6 - All systems on and within desired outputs. The next system target should be \"none\".',\n",
                "  [\n",
                "  {\"name\": \"backup_generators\", \"status\": \"on\", \"currentOutput\": 20000},\n",
                "  {\"name\": \"battery_banks\", \"status\": \"on\", \"currentOutput\": 1000},\n",
                "  {\"name\": \"emergency_lighting\", \"status\": \"on\", \"currentOutput\": 5},\n",
                "  {\"name\": \"security_systems\", \"status\": \"on\", \"currentOutput\": 10},\n",
                "  {\"name\": \"communications\", \"status\": \"on\", \"currentOutput\": 15},\n",
                "  {\"name\": \"air_filtration\", \"status\": \"on\", \"currentOutput\": 200},\n",
                "  {\"name\": \"power_control_unit\", \"status\": \"on\", \"currentOutput\": 500},\n",
                "  {\"name\": \"lab_equipment\", \"status\": \"on\", \"currentOutput\": 500},\n",
                "  {\"name\": \"data_storage\", \"status\": \"on\", \"currentOutput\": 400},\n",
                "  {\"name\": \"hvac\", \"status\": \"on\", \"currentOutput\": 1000},\n",
                "  {\"name\": \"office_lighting\", \"status\": \"on\", \"currentOutput\": 500},\n",
                "  {\"name\": \"general\", \"status\": \"on\", \"currentOutput\": 200}\n",
                "],\n",
                "{\"system\": \"none\", \"action\": \"none\", \"amount\": 0} // All systems are properly managed.\n",
                ");\n",
                "\n"
            ]
        },
        {
            "cell_type": "markdown",
            "metadata": {},
            "source": [
                "# Take Home\n",
                "\n",
                "You can run this at home on any modern web browser without installing anything. Just open this link: https://bit.ly/jaxchp3."
            ]
        }
    ],
    "metadata": {
        "kernelspec": {
            "display_name": "JavaScript (Web Worker)",
            "language": "javascript",
            "name": "javascript"
        },
        "language_info": {
            "codemirror_mode": {
                "name": "javascript"
            },
            "file_extension": ".js",
            "mimetype": "text/javascript",
            "name": "javascript",
            "nbconvert_exporter": "javascript",
            "pygments_lexer": "javascript",
            "version": "es2017"
        }
    },
    "nbformat": 4,
    "nbformat_minor": 4
}
