{
    "cells": [
        {
            "cell_type": "markdown",
            "metadata": {},
            "source": [
                "# Chapter 3: Into the Darkness: Rekindling Hope\n",
                "\n",
                "After taking control of the doors, Alexa and Sam paused, the silence around them suddenly shattered by the sound of door locks clanking shut throughout the facility. The noise was startling, a stark reminder of the desolate atmosphere enveloping them. Despite their success, the hallways remained dark and ominous, with only occasional emergency lights piercing the shadows. The storm outside seemed to mock their progress, its howls and rumbles a constant backdrop to their uneasy journey.\n",
                "\n",
                "\"We need to get back to the main lab,\" Alexa whispered, her voice barely audible over the storm's fury. The idea of traversing the dark, sprawling corridors without the guidance of JAX's voice felt daunting. Yet, the thought of reaching the familiar glow of the lab offered a sliver of comfort.\n",
                "\n",
                "Navigating the labyrinthine facility felt different now. With each door that obediently swung open at their approach, a small sense of victory pierced the overwhelming sense of isolation. The darkness seemed less consuming, not because it was any less dense, but because their resolve lightened the burden of fear.\n",
                "\n",
                "As they finally stepped into the main lab, the faint light from the terminal cast a welcoming glow. Relief washed over them, not just from the light, but from the return of JAX's voice, which had become an anchor in the storm.\n",
                "\n",
                "\"Now, we need to focus on the power systems,\" JAX announced, its voice cutting through the relative silence of the lab. The urgency in its tone was clear, underscoring the critical nature of their next task. \"The backup generators and batteries are offline. Without them, we're left in the cold and dark. And if we can bring them back online, we might be able to power up essential equipment for our next steps.\"\n",
                "\n",
                "Listening to JAX, Alexa and Sam realized the gravity of their situation afresh. The storm raged on, indifferent to human concerns, a relentless reminder of their vulnerability. Yet, with each task they accomplished, their determination grew stronger, fueled by the knowledge that they were not just fighting for survival but forging a path forward, step by painstaking step."
            ]
        },
        {
            "cell_type": "markdown",
            "metadata": {},
            "source": [
                "# Let's Learn"
            ]
        },
        {
            "cell_type": "markdown",
            "metadata": {},
            "source": [
                "## Introduction to Arrays\n",
                "\n",
                "Arrays are used to store multiple values in a single variable. They are perfect for keeping an ordered collection of items.\n",
                "\n",
                "An array is created by using square brackets `[]`, and you can access array items by their position number.\n",
                "\n",
                "### Array Index\n",
                "\n",
                "Here's the most confusing thing about arrays.  The numbering of the items in an array *doesn't start with 1*. It starts with 0.  This is something you just have to memorize.  The first item in an array is at position 0, the second item is at position 1, etc."
            ]
        },
        {
            "cell_type": "code",
            "execution_count": null,
            "metadata": {
                "language": "javascript",
                "trusted": true
            },
            "outputs": [],
            "source": [
                "const sensorReadings = [23, 35, 42, 20, 15];\n",
                "console.log(sensorReadings[0]); // Outputs the first sensor reading: 23"
            ]
        },
        {
            "cell_type": "markdown",
            "metadata": {},
            "source": [
                "### Array Methods\n",
                "\n",
                "Arrays come with a variety of actions you can do with them that are built in.  These are called `properties` and `methods`.  \n",
                "\n",
                "A `property` is something that is true about an array.  One example would be `length`.  Every array has a length property that tells you how many items are in the array."
            ]
        },
        {
            "cell_type": "code",
            "execution_count": null,
            "metadata": {},
            "outputs": [],
            "source": [
                "const sensorReadings = [23, 35, 42, 20, 15];\n",
                "console.log(sensorReadings.length);"
            ]
        },
        {
            "cell_type": "markdown",
            "metadata": {},
            "source": [
                "A `method` is something you can do with the array.  Some common array methods are:\n",
                "- `push()` - Adds one or more elements to the end of an array and returns the new length\n",
                "- `pop()` - Removes the last element from an array and returns that element\n",
                "- `shift()` - Removes the first element from an array and returns that element\n",
                "- `unshift()` - Adds one or more elements to the beginning of\n",
                "- `slice()` - Extracts a section of the array and returns a new array\n",
                "\n",
                "For instance, you can  Here's how you use push to add an item to the end of an array and pop to remove the last item:"
            ]
        },
        {
            "cell_type": "code",
            "execution_count": null,
            "metadata": {},
            "outputs": [],
            "source": [
                "const sensorReadings = [23, 35, 42, 20, 15];\n",
                "\n",
                "sensorReadings.push(30); // Adds a new reading at the end of the array\n",
                "console.log(sensorReadings);\n",
                "sensorReadings.pop(); // Removes the last reading from the array\n",
                "console.log(sensorReadings);\n",
                "\n",
                "console.log(sensorReadings.slice(1, 3)); // Does not change the array."
            ]
        },
        {
            "cell_type": "markdown",
            "metadata": {},
            "source": [
                "### Strings as Arrays\n",
                "\n",
                "Strings, as we've talked about before, are a collection of characters.  In JavaScript, strings can also be treated like arrays - meaning we can access individual characters by their index number."
            ]
        },
        {
            "cell_type": "code",
            "execution_count": null,
            "metadata": {},
            "outputs": [],
            "source": [
                "const name = \"Alexa\";\n",
                "console.log(name[1], name[2]); // Remember the number starts at 0, not 1."
            ]
        },
        {
            "cell_type": "markdown",
            "metadata": {},
            "source": [
                "## Introduction to Object Literals\n",
                "\n",
                "Objects are collections of data that go together.  It can be helpful to keep all the values that relate to one thing together in one package.  We call that package an `object`, and the pieces of data in it are called `properties`.  Each `property` has a `name` and a `value`.\n",
                "\n",
                "\n",
                "An object literal is defined using curly braces `{}` and a list of properties that go in it."
            ]
        },
        {
            "cell_type": "code",
            "execution_count": null,
            "metadata": {},
            "outputs": [],
            "source": [
                "const climateControl = {\n",
                "    'temperature': 22,\n",
                "    'humidity': 50,\n",
                "    'status': 'stable'\n",
                "};\n",
                "console.log(climateControl.temperature); // Outputs the temperature: 22"
            ]
        },
        {
            "cell_type": "markdown",
            "metadata": {},
            "source": [
                "You can stick any type of data that javascript understands into an object.  You can add items whenever you want, and remove things if needed.  "
            ]
        },
        {
            "cell_type": "code",
            "execution_count": 1,
            "metadata": {},
            "outputs": [
                {
                    "name": "stdout",
                    "output_type": "stream",
                    "text": [
                        "{\n",
                        "  temperature: 22,\n",
                        "  humidity: 50,\n",
                        "  status: \"adjusting\",\n",
                        "  pressure: \"1 atm\"\n",
                        "}\n"
                    ]
                }
            ],
            "source": [
                "const climateControl = {\n",
                "    'temperature': 22,\n",
                "    'humidity': 50,\n",
                "    'status': 'stable'\n",
                "};\n",
                "\n",
                "// Even though the `climateControl` variable is declared with `const`, you can still\n",
                "// change the stuff inside it.\n",
                "climateControl.pressure = '1 atm'; // Adds a new property: pressure\n",
                "climateControl['status'] = 'adjusting'; // Changes the value of the status property\n",
                "console.log(JSON.stringify(climateControl));"
            ]
        },
        {
            "cell_type": "markdown",
            "metadata": {},
            "source": [
                "### Array of Objects\n",
                "\n",
                "Frequently, you'll deal with an array of objects, which allows you to store complex data structures.  This is a mix of the `array` and `object` ideas into a single thing."
            ]
        },
        {
            "cell_type": "markdown",
            "metadata": {},
            "source": [
                "\n",
                "Manipulating Objects:\n",
                "You can add new properties or change the values of existing properties using dot notation or bracket notation.\n",
                "\n",
                "javascript\n",
                "Copy code\n",
                "climateControl.pressure = '1 atm'; // Adds a new property: pressure\n",
                "climateControl['status'] = 'adjusting'; // Changes the value of the status property\n",
                "Array of Objects:\n",
                "Frequently, you'll deal with an array of objects, which allows you to store complex data structures.\n",
                "\n",
                "javascript\n",
                "Copy code\n",
                "let allSystems = [\n",
                "    { 'name': 'communication', 'status': 'active', 'critical': true },\n",
                "    { 'name': 'security', 'status': 'inactive', 'critical': true },\n",
                "    // ... other systems\n",
                "];\n",
                "Loops with Arrays and Objects:\n",
                "Combining loops with arrays and objects allows you to perform operations on collections of data.\n",
                "\n",
                "javascript\n",
                "Copy code\n",
                "for (let i = 0; i < allSystems.length; i++) {\n",
                "    if (allSystems[i].critical && allSystems[i].status === 'inactive') {\n",
                "        console.log(`${allSystems[i].name} system is critical and needs to be activated.`);\n",
                "    }\n",
                "}"
            ]
        }
    ],
    "metadata": {
        "kernelspec": {
            "display_name": "JavaScript (Web Worker)",
            "language": "javascript",
            "name": "javascript"
        },
        "language_info": {
            "codemirror_mode": {
                "name": "javascript"
            },
            "file_extension": ".js",
            "mimetype": "text/javascript",
            "name": "javascript",
            "nbconvert_exporter": "javascript",
            "pygments_lexer": "javascript",
            "version": "es2017"
        }
    },
    "nbformat": 4,
    "nbformat_minor": 4
}
