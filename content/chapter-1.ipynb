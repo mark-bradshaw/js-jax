{
  "cells": [
    {
      "cell_type": "markdown",
      "metadata": {},
      "source": [
        "# Chapter 1: The Unintended Detour\n",
        "\n",
        "<img src=\"https://mark-bradshaw.github.io/js-jax/files/extras/images/students-entering-building.png\" width=\"50%\" align=\"right\" />Nestled in the heart of Silicon Foothills lies the renowned HelixTech Research Facility, a gleaming monument to human ingenuity and the pursuit of knowledge. It's here that a group of students, including Alexa and Sam, arrive for a field trip, eager to glimpse the future of technology. Their eyes wide with wonder, they tour the facility's cutting-edge labs and corridors filled with patents and prototypes, each exhibit more captivating than the last.\n",
        "\n",
        "As the day progresses, dark clouds gather overhead, and distant thunder warns of an approaching storm. The facility's staff, heeding the severe weather alerts, initiate a swift but orderly evacuation. Amidst the anticipation of the storm, Alexa and Sam become particularly engrossed with a demonstration in a secluded part of the lab. This area, away from the main tour path, is overseen by Dr. Eleni Rivera, a leading researcher who is showcasing a groundbreaking project on quantum computing.\n",
        "\n",
        "Dr. Rivera, impressed by their keen interest, offers a more in-depth explanation just as the evacuation begins. The lab's remote location and its special soundproofing, designed to prevent electromagnetic interference with sensitive experiments, inadvertently isolate them from the commotion of the evacuating crowds. Dr. Rivera, called away urgently by a colleague for an evacuation-related task, steps out, assuring them she would return momentarily.\n",
        "\n",
        "In the chaos of the moment, a miscommunication leads to the absence of Alexa and Sam going unnoticed. Dr. Rivera, caught up in her responsibilities, forgets to inform the evacuation team about the two students in the quantum computing lab. The facility, now devoid of its usual hum of activity, becomes eerily silent as the storm intensifies outside.\n",
        "\n",
        "The power fluctuates, and emergency lights flicker to life, casting an eerie glow. The once bustling HelixTech Research Facility now feels like a ghost of its former self, with only the howling winds and the echo of thunder for company. Alexa and Sam, realizing the gravity of their situation, decide to seek shelter and attempt to find a way out.\n",
        "\n",
        "With their cell phones left on the bus and the facility's exits secured in preparation for the storm, they make their way back to the main lab, hoping to find someone who can help. Instead, they encounter a lone computer terminal that, amidst the power surges, remains on, a solitary beacon in the gloom.\n",
        "\n",
        "<img src=\"https://mark-bradshaw.github.io/js-jax/files/extras/images/sam-alexa-looking-at-screen.png\" width=\"80%\"/>\n",
        "\n",
        "The screen suddenly illuminates with a friendly avatar, introducing itself as JAX, the AI in charge of the lab. With the power out, JAX urgently needs their help to re-establish control of the lab's critical systems. Without their assistance, the AI cannot prevent the potential destruction of valuable research or guarantee their safety amidst the storm.\n",
        "\n",
        "Seizing the opportunity, Alexa and Sam decide to engage with JAX, who seems more than willing to guide them through the intricacies of the lab's systems. Amidst the echoing thunder and the relentless rain against the windows, they begin their unplanned tutorial in the programming language that powers the very technology around them.\n",
        "\n",
        "Under JAX's guidance the two begin their unplanned lessons, typing out code that slowly begins to make some sense. As the storm rages on outside, Alexa and Sam are drawn deeper into a world where technology and determination intersect, holding onto the hope that their newfound knowledge can avert disaster and perhaps, in the process, open the way back home.\n"
      ]
    },
    {
      "cell_type": "markdown",
      "metadata": {
        "jp-MarkdownHeadingCollapsed": true
      },
      "source": [
        "\n",
        "# Let's Learn\n"
      ]
    },
    {
      "cell_type": "markdown",
      "metadata": {},
      "source": [
        "\n",
        "## Variables in JavaScript\n",
        "\n",
        "Variables are fundamental to any programming language, acting as containers for data that can be changed and manipulated.\n",
        "In JavaScript, a variable can be declared using `let` or `const`. ([more](./extras/variables.ipynb))\n"
      ]
    },
    {
      "cell_type": "code",
      "execution_count": null,
      "metadata": {
        "language": "javascript",
        "trusted": true
      },
      "outputs": [],
      "source": [
        "\n",
        "const message = \"Hello, World!\";\n",
        "console.log(message); // Prints \"Hello, World!\" to the console."
      ]
    },
    {
      "cell_type": "markdown",
      "metadata": {},
      "source": [
        "\n",
        "## Data Types\n",
        "\n",
        "JavaScript is a loosely typed language, meaning you don't need to declare the type of variable upfront. \n",
        "It has dynamic data types; these include Numbers, Strings, Booleans, Objects, and more. ([more](./extras/datatypes.ipynb))\n"
      ]
    },
    {
      "cell_type": "code",
      "execution_count": null,
      "metadata": {
        "language": "javascript",
        "trusted": true
      },
      "outputs": [],
      "source": [
        "\n",
        "const age = 16; // Number\n",
        "const name = 'Alexa'; // String\n",
        "const isStudent = true; // Boolean\n",
        "console.log(age, name, isStudent); // Prints the values of the variables."
      ]
    },
    {
      "cell_type": "markdown",
      "metadata": {},
      "source": [
        "\n",
        "## Functions\n",
        "\n",
        "Functions are a group of code that does some task that you want to repeat over and over.  You use functions instead of repeating the same lines of code, or just to help organize the task you are trying to accomplish.  ([more](./extras/functions.ipynb))\n"
      ]
    },
    {
      "cell_type": "code",
      "execution_count": null,
      "metadata": {
        "language": "javascript",
        "trusted": true
      },
      "outputs": [],
      "source": [
        "\n",
        "function add(first, second) {\n",
        "    return first + second;\n",
        "}\n",
        "console.log(add(3, 6)); // Calls the add function with the arguments 3 and 6.\n"
      ]
    },
    {
      "cell_type": "markdown",
      "metadata": {
        "jp-MarkdownHeadingCollapsed": true
      },
      "source": [
        "# Challenge"
      ]
    },
    {
      "cell_type": "markdown",
      "metadata": {},
      "source": [
        "## Challenge: Illuminating the Shadows\n",
        "\n",
        "Huddled in the main lab, surrounded by the hum of dormant machinery, Alexa and Sam feel the weight of isolation in the sprawling facility. Jax's voice, a digital echo in the quiet, breaks the silence. \"The surveillance system is currently inaccessible due to a security protocol that automatically encrypted the camera feeds due to the evacuation and lockdown,\" Jax explains.\n",
        "\n",
        "Sam peers at the array of screens, all displaying encrypted error messages instead of visual feeds. \"So, we're blind here?\" he asks. \"Not for long,\" Alexa interjects with determination. \"JAX, can you guide us on how to decrypt these feeds from here?\"\n",
        "\n",
        "\"Certainly,\" JAX replies. \"Each camera's feed is encrypted with a unique numeric code as part of our security measures. By cracking these codes, we can bypass the encryption and regain visual control over the lab. It’s a straightforward task of applying the decryption algorithm.\"\n",
        "\n",
        "### Instructions for Students:\n",
        "\n",
        "In this challenge, your task is to complete the `decryptCameraCode` function. It should take a single numeric camera ID as input and 'decrypt' it by performing a series of basic arithmetic operations. While JAX can't directly write the code, he knows the method to decrypt the code.  Here's the logic:\n",
        "\n",
        "1. Take the camera ID number and multiply it by 3\n",
        "2. Add 7 to the result\n",
        "3. Divide the result by 5 and round down (using `math.floor`)\n",
        "4. Return the final result\n",
        "\n",
        "After writing your function, use the test cases provided to see if it works as expected. The output in the console should reflect the correctly decrypted camera ID based on your code."
      ]
    },
    {
      "cell_type": "code",
      "execution_count": null,
      "metadata": {
        "trusted": true
      },
      "outputs": [],
      "source": [
        "function decryptCameraCode(cameraID) {\n",
        "    // Your code goes here.  Give it a shot.\n",
        "    // 1. Take the input ID and multiply it by 3\n",
        "\n",
        "    // 2. Add 7 to the result\n",
        "\n",
        "    // 3. Divide the result by 5 and round down (using `math.floor`)\n",
        "\n",
        "    // 4. Return the final result\n",
        "\n",
        "}\n",
        "\n",
        "console.log(`This --> \"${decryptCameraCode(19)}\" should say \"12\"`);\n",
        "console.log(`This --> \"${decryptCameraCode(40)}\" should say \"25\"`);\n",
        "console.log(`This --> \"${decryptCameraCode(92)}\" should say \"56\"`);"
      ]
    },
    {
      "cell_type": "markdown",
      "metadata": {},
      "source": [
        "# Take Home\n",
        "\n",
        "You can run this at home on any modern web browser without installing anything. Just open this link: https://bit.ly/jaxchp1."
      ]
    }
  ],
  "metadata": {
    "kernelspec": {
      "display_name": "JavaScript (Web Worker)",
      "language": "javascript",
      "name": "javascript"
    },
    "language_info": {
      "codemirror_mode": {
        "name": "javascript"
      },
      "file_extension": ".js",
      "mimetype": "text/javascript",
      "name": "javascript",
      "nbconvert_exporter": "javascript",
      "pygments_lexer": "javascript",
      "version": "es2017"
    }
  },
  "nbformat": 4,
  "nbformat_minor": 4
}
