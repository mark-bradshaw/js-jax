{
  "cells": [
    {
      "cell_type": "markdown",
      "metadata": {},
      "source": [
        "# Chapter 1: The Unintended Detour\n",
        "\n",
        "<img src=\"https://mark-bradshaw.github.io/js-jax/files/extras/images/students-entering-building.png\" align=\"right\" style=\"margin-left: 1rem; width: 50%;\" />Nestled in the heart of Silicon Foothills lies the renowned HelixTech Research Facility, a gleaming monument to human ingenuity and the pursuit of knowledge. It's here that a group of students, including Alexa and Sam, arrive for a field trip, eager to glimpse the future of technology. Their eyes wide with wonder, they tour the facility's cutting-edge labs and corridors filled with patents and prototypes, each exhibit more captivating than the last.\n",
        "\n",
        "As the day progresses, dark clouds gather overhead, and distant thunder warns of an approaching storm.  Amidst the anticipation of the storm, Alexa and Sam become particularly engrossed with a demonstration in a secluded part of the lab. This area, away from the main tour path, is overseen by Dr. Eleni Rivera, a leading researcher who is showcasing a groundbreaking project on quantum computing.\n",
        "\n",
        "Dr. Rivera, impressed by their keen interest, offers a more in-depth explanation to the two as the rest of the tour continues on.  Dr. Rivera is called away, and promises to return momentarily.  The storm has worsened dramatically.  There will be flash floods, tornados and extreme lightning that the facility is not hardened against.  The facility's staff, heeding the severe weather alerts, initiate a swift but orderly evacuation. Dr. Rivera engages fully in preparing to leave, but in the excitement forgets about the two isolated students.\n",
        "\n",
        "The lab's remote location and its special soundproofing, designed to prevent electromagnetic interference with sensitive experiments, inadvertently isolate Alexa and Sam from the commotion of the evacuating crowds. In the chaos of the moment, the absence of Alexa and Sam going unnoticed. Dr. Rivera, caught up in her responsibilities, forgets to inform the evacuation team about the two students in the quantum computing lab. The facility, now devoid of its usual hum of activity, becomes eerily silent as the storm intensifies outside.\n",
        "\n",
        "The power fluctuates, and emergency lights flicker to life, casting an eerie glow. The once bustling HelixTech Research Facility now feels like a ghost of its former self, with only the howling winds and the echo of thunder for company.  No one is in sight.  Alexa and Sam, suddenly realizing they are alone in the huge building, pull out their cell phones to contact anyone, but the storm has knocked out cell reception and Internet access.  Confused about what is happening, but understanding the gravity of their situation, they decide to seek shelter and figure out what to do next.\n",
        "\n",
        "With the facility's main entrance locked down in preparation for the storm, they make their way back to the main lab, hoping to find someone who can help. Instead, they encounter a lone computer terminal that, despite the power outages, remains on, a solitary beacon in the gloom.\n",
        "\n",
        "<img src=\"https://mark-bradshaw.github.io/js-jax/files/extras/images/sam-alexa-looking-at-screen.png\" align=\"left\" style=\"margin-right: 1rem; width: 50%; \" /> The screen suddenly illuminates with a friendly face that looks human, but not quite natural.  It introduces itself as JAX, the AI in charge of the lab. With the power out and all systems down, JAX urgently needs their help to re-establish control of the lab's critical systems. Without their assistance, the AI cannot prevent the potential destruction of valuable research or guarantee their safety amidst the storm.\n",
        "\n",
        "Seizing the opportunity to regain some control, Alexa and Sam decide to work with JAX, who seems more than willing to guide them through the intricacies of the lab's systems. Amidst the echoing thunder and the relentless rain against the windows, they begin their unplanned lessons, typing out code that slowly begins to make some sense. As the storm rages on outside, Alexa and Sam desperately focus, holding onto the hope that their newfound knowledge can avert disaster and perhaps, in the process, open the way back home.\n"
      ]
    },
    {
      "cell_type": "markdown",
      "metadata": {
        "jp-MarkdownHeadingCollapsed": true
      },
      "source": [
        "\n",
        "# Let's Learn\n"
      ]
    },
    {
      "cell_type": "markdown",
      "metadata": {},
      "source": [
        "\n",
        "## Variables in JavaScript\n",
        "\n",
        "Variables are fundamental to any programming language, acting as containers for data that can be changed and manipulated.\n",
        "In JavaScript, a variable can be declared using `let` or `const`. ([more](./extras/variables.ipynb))\n"
      ]
    },
    {
      "cell_type": "code",
      "execution_count": null,
      "metadata": {
        "language": "javascript",
        "trusted": true
      },
      "outputs": [],
      "source": [
        "\n",
        "const message = \"Hello, World!\";\n",
        "console.log(message); // Prints \"Hello, World!\" to the console."
      ]
    },
    {
      "cell_type": "markdown",
      "metadata": {},
      "source": [
        "\n",
        "## Data Types\n",
        "\n",
        "JavaScript is a loosely typed language, meaning you don't need to declare the type of variable upfront. \n",
        "It has dynamic data types; these include Numbers, Strings, Booleans, Objects, and more. ([more](./extras/datatypes.ipynb))\n"
      ]
    },
    {
      "cell_type": "code",
      "execution_count": null,
      "metadata": {
        "language": "javascript",
        "trusted": true
      },
      "outputs": [],
      "source": [
        "\n",
        "const age = 16; // Number\n",
        "const name = 'Alexa'; // String\n",
        "const isStudent = true; // Boolean\n",
        "console.log(age, name, isStudent); // Prints the values of the variables."
      ]
    },
    {
      "cell_type": "markdown",
      "metadata": {},
      "source": [
        "\n",
        "## Functions\n",
        "\n",
        "Functions are a group of code that does some task that you want to repeat over and over.  You use functions instead of repeating the same lines of code, or just to help organize the task you are trying to accomplish.  ([more](./extras/functions.ipynb))\n"
      ]
    },
    {
      "cell_type": "code",
      "execution_count": null,
      "metadata": {
        "language": "javascript",
        "trusted": true
      },
      "outputs": [],
      "source": [
        "\n",
        "function add(first, second) {\n",
        "    return first + second;\n",
        "}\n",
        "console.log(add(3, 6)); // Calls the add function with the arguments 3 and 6.\n"
      ]
    },
    {
      "cell_type": "markdown",
      "metadata": {
        "jp-MarkdownHeadingCollapsed": true
      },
      "source": [
        "# Challenge"
      ]
    },
    {
      "cell_type": "markdown",
      "metadata": {},
      "source": [
        "## Challenge: Illuminating the Shadows\n",
        "\n",
        "Huddled in the main lab, surrounded by the hum of dormant machinery, Alexa and Sam feel the weight of isolation in the sprawling facility. JAX's voice, a digital echo in the quiet, breaks the silence. \"The surveillance system is operating on backup power, but currently inaccessible due to a security protocol that automatically encrypted the camera feeds due to the evacuation and lockdown.  I need those cameras in order to help you as you move through the labs,\" Jax explains.\n",
        "\n",
        "Sam peers at the array of screens, all displaying encrypted error messages instead of visual feeds. \"So, we're blind here?\" he asks. \"Not for long,\" Alexa interjects with determination. \"JAX, can you guide us on how to decrypt these feeds from here?\"\n",
        "\n",
        "\"Certainly,\" JAX replies. \"Each camera's feed is encrypted with a unique numeric code as part of our security measures. By cracking these codes, we can bypass the encryption and regain visual control over the lab. Fortunately I know the decryption algorithm, so I tell you what needs to be done.\"\n",
        "\n",
        "\"Can you just fix it yourself,\" Sam asks.  \n",
        "\n",
        "\"I'm afraid my operational protocols won't let me directly program any of the lab's systems, and I'll be offline while you enter the code.  I can describe what you need to do, but the coding is up to you.  Good luck.\"\n",
        "\n",
        "### Instructions for Students:\n",
        "\n",
        "In this challenge, your task is to complete the `decryptCameraCode` function. It should take a single numeric camera ID as input and 'decrypt' it by performing a series of basic arithmetic operations. While JAX can't directly write the code, he knows the method to decrypt the code.  Here's the logic:\n",
        "\n",
        "1. Take the camera ID number and multiply it by 3\n",
        "2. Add 7 to the result\n",
        "3. Divide the result by 5 and round down (using `math.floor`)\n",
        "4. Return the final result\n",
        "\n",
        "After writing your function, use the test cases provided to see if it works as expected. The output in the console should reflect the correctly decrypted camera ID based on your code."
      ]
    },
    {
      "cell_type": "code",
      "execution_count": null,
      "metadata": {
        "trusted": true
      },
      "outputs": [],
      "source": [
        "function decryptCameraCode(cameraID) {\n",
        "    // Your code goes here.  Give it a shot.\n",
        "    // 1. Take the input ID and multiply it by 3\n",
        "\n",
        "    // 2. Add 7 to the result\n",
        "\n",
        "    // 3. Divide the result by 5 and round down (using `math.floor`)\n",
        "\n",
        "    // 4. Return the final result\n",
        "\n",
        "}\n",
        "\n",
        "console.log(`This --> \"${decryptCameraCode(19)}\" should say \"12\"`);\n",
        "console.log(`This --> \"${decryptCameraCode(40)}\" should say \"25\"`);\n",
        "console.log(`This --> \"${decryptCameraCode(92)}\" should say \"56\"`);"
      ]
    },
    {
      "cell_type": "markdown",
      "metadata": {},
      "source": [
        "# Take Home\n",
        "\n",
        "You can run this at home on any modern web browser without installing anything. Just open this link: https://bit.ly/jaxchp1."
      ]
    }
  ],
  "metadata": {
    "kernelspec": {
      "display_name": "JavaScript (Web Worker)",
      "language": "javascript",
      "name": "javascript"
    },
    "language_info": {
      "codemirror_mode": {
        "name": "javascript"
      },
      "file_extension": ".js",
      "mimetype": "text/javascript",
      "name": "javascript",
      "nbconvert_exporter": "javascript",
      "pygments_lexer": "javascript",
      "version": "es2017"
    }
  },
  "nbformat": 4,
  "nbformat_minor": 4
}
