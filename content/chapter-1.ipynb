{
  "cells": [
    {
      "cell_type": "markdown",
      "metadata": {},
      "source": [
        "# Chapter 1: The Unintended Detour\n",
        "\n",
        "Nestled in the heart of Silicon Foothills lies the renowned HelixTech Research Facility, a gleaming monument to human ingenuity and the pursuit of knowledge. It's here that a group of students, including Alexa and Sam, arrive for a field trip, eager to glimpse the future of technology. Their eyes wide with wonder, they tour the facility's cutting-edge labs and corridors filled with patents and prototypes, each exhibit more captivating than the last.\n",
        "\n",
        "As the day progresses, dark clouds gather overhead, and distant thunder warns of an approaching storm. The facility's staff, heeding the severe weather alerts, initiate a swift but orderly evacuation. In the chaos of the moment, a miscommunication leads to Alexa and Sam being left in the now abandoned building, their presence unnoticed by the hurrying employees.\n",
        "\n",
        "The storm hits with unexpected ferocity, the power fluctuates, and emergency lights flicker to life, casting an eerie glow. The facility, now a ghost of its former self, is eerily silent except for the howling winds that echo through the empty halls.\n",
        "\n",
        "With their cell phones left on the bus and the facility's exits secured, Alexa and Sam return to the main lab, seeking shelter until the storm passes. It's there they encounter a lone computer terminal that, to their astonishment amidst the power surges, remains on, a solitary beacon in the gloom.\n",
        "<img src=\"https://mark-bradshaw.github.io/js-jax/files/chapter%201/images/left-behind-in-the-lab.png?raw=true\" width=\"80%\"/>\n",
        "\n",
        "The screen suddenly illuminates with a friendly avatar, introducing itself as JAX, the AI in charge of the lab.  With the power out JAX needs your help to re-establish control of the lab.  Without their help the AI cannot prevent the destruction of the lab, or guarantee their safety.  The two friends decide to engage with JAX, who seems eager to teach them the language that powers the very technology around them.  Hopefully they can learn what they need to prevent disaster.\n",
        "\n",
        "As rain pounds against the windows and thunder shakes the walls, Alexa and Sam begin their unplanned tutorial in JavaScript, typing out code that feels like incantations, bringing life to the ideas that once thrived in the lab. The storm rages outside, and it seems that for now at least, the future remains unseen. \n"
      ]
    },
    {
      "cell_type": "markdown",
      "metadata": {
        "jp-MarkdownHeadingCollapsed": true
      },
      "source": [
        "\n",
        "# Let's Learn\n"
      ]
    },
    {
      "cell_type": "markdown",
      "metadata": {},
      "source": [
        "\n",
        "## Variables in JavaScript\n",
        "\n",
        "Variables are fundamental to any programming language, acting as containers for data that can be changed and manipulated.\n",
        "In JavaScript, a variable can be declared using `let` or `const`. ([more](./extras/variables.ipynb))\n"
      ]
    },
    {
      "cell_type": "code",
      "execution_count": null,
      "metadata": {
        "language": "javascript",
        "trusted": true
      },
      "outputs": [],
      "source": [
        "\n",
        "const message = \"Hello, World!\";\n",
        "console.log(message); // Prints \"Hello, World!\" to the console."
      ]
    },
    {
      "cell_type": "markdown",
      "metadata": {},
      "source": [
        "\n",
        "## Data Types\n",
        "\n",
        "JavaScript is a loosely typed language, meaning you don't need to declare the type of variable upfront. \n",
        "It has dynamic data types; these include Numbers, Strings, Booleans, Objects, and more.\n"
      ]
    },
    {
      "cell_type": "code",
      "execution_count": null,
      "metadata": {
        "language": "javascript",
        "trusted": true
      },
      "outputs": [],
      "source": [
        "\n",
        "const age = 16; // Number\n",
        "const name = 'Alexa'; // String\n",
        "const isStudent = true; // Boolean\n",
        "console.log(age, name, isStudent); // Prints the values of the variables."
      ]
    },
    {
      "cell_type": "markdown",
      "metadata": {},
      "source": [
        "\n",
        "## Functions\n",
        "\n",
        "Functions are blocks of code that perform a particular task. They are like any other value and can be assigned to variables.\n"
      ]
    },
    {
      "cell_type": "code",
      "execution_count": null,
      "metadata": {
        "language": "javascript",
        "trusted": true
      },
      "outputs": [],
      "source": [
        "\n",
        "function greet(name) {\n",
        "    return \"Hello, \" + name + \"!\";\n",
        "}\n",
        "console.log(greet('Sam')); // Calls the function with the argument 'Sam'\n"
      ]
    },
    {
      "cell_type": "markdown",
      "metadata": {
        "jp-MarkdownHeadingCollapsed": true
      },
      "source": [
        "# Challenge"
      ]
    },
    {
      "cell_type": "markdown",
      "metadata": {},
      "source": [
        "## Challenge: Illuminating the Shadows\n",
        "\n",
        "Huddled in the main lab, surrounded by the hum of dormant machinery, Alexa and Sam felt the weight of isolation in the sprawling facility. Jax's voice, a digital echo in the quiet, broke the silence. \"The surveillance system is down due to the power fluctuations. It's essential for monitoring the lab's critical areas, especially now when visibility is limited,\" Jax explained.\n",
        "\n",
        "Sam peered at the array of screens, all dark and unresponsive. \"So, we're blind here?\" he asked. \"Not for long,\" Alexa interjected with determination. \"Jax, can you guide us on how to bring these cameras back online from here?\"\n",
        "\n",
        "\"Certainly,\" Jax replied. \"Each camera is encrypted with a unique numeric code. By decrypting these codes, we can reboot the cameras remotely and regain visual control over the lab. It’s a simple task of reversing the encryption formula.\"\n",
        "\n",
        "### Instructions for Students:\n",
        "\n",
        "In this challenge, your task is to write the `decryptCameraCode` function. It should take a single numeric camera ID as input and 'decrypt' it by performing a series of basic arithmetic operations. While JAX can't directly write the code, he knows the method to decrypt the code.  Here's the logic:\n",
        "\n",
        "1. Take the input ID and multiply it by 3\n",
        "2. Add 7 to the result\n",
        "3. Divide the result by 5 and round down (using `math.floor`)\n",
        "4. Return the final result\n",
        "\n",
        "After writing your function, use the test cases provided to see if it works as expected. The output in the console should reflect the correctly decrypted camera ID based on your logic."
      ]
    },
    {
      "cell_type": "code",
      "execution_count": null,
      "metadata": {
        "trusted": true
      },
      "outputs": [],
      "source": [
        "function decryptCameraCode(cameraID) {\n",
        "    // Your code goes here.  Give it a shot.\n",
        "    // 1. Take the input ID and multiply it by 3\n",
        "\n",
        "    // 2. Add 7 to the result\n",
        "\n",
        "    // 3. Divide the result by 5 and round down (using `math.floor`)\n",
        "\n",
        "    // 4. Return the final result\n",
        "\n",
        "}\n",
        "\n",
        "console.log(`This --> \"${decryptCameraCode(19)}\" should say \"12\"`);\n",
        "console.log(`This --> \"${decryptCameraCode(40)}\" should say \"25\"`);\n",
        "console.log(`This --> \"${decryptCameraCode(92)}\" should say \"56\"`);"
      ]
    }
  ],
  "metadata": {
    "kernelspec": {
      "display_name": "JavaScript (Web Worker)",
      "language": "javascript",
      "name": "javascript"
    },
    "language_info": {
      "codemirror_mode": {
        "name": "javascript"
      },
      "file_extension": ".js",
      "mimetype": "text/javascript",
      "name": "javascript",
      "nbconvert_exporter": "javascript",
      "pygments_lexer": "javascript",
      "version": "es2017"
    }
  },
  "nbformat": 4,
  "nbformat_minor": 4
}